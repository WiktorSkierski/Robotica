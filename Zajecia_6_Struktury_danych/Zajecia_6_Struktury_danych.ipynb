{
 "cells": [
  {
   "cell_type": "markdown",
   "id": "fdce8634",
   "metadata": {},
   "source": [
    "# Struktury danych"
   ]
  },
  {
   "cell_type": "markdown",
   "id": "6a198da8",
   "metadata": {},
   "source": [
    "<b>Przykład 1.</b> Jedną z najbardziej użytecznych struktur danych jest lista. Listą nazywamy zbiór wartości lub znaków zaindeksowanych od zera rosnąco w prawo."
   ]
  },
  {
   "cell_type": "code",
   "execution_count": 50,
   "id": "43bb6c3a",
   "metadata": {},
   "outputs": [
    {
     "name": "stdout",
     "output_type": "stream",
     "text": [
      "['apple', 'banana', 'cherry']\n",
      "------------------------------\n",
      "apple\n",
      "banana\n",
      "cherry\n"
     ]
    }
   ],
   "source": [
    "lista = [\"apple\", \"banana\", \"cherry\"]\n",
    "\n",
    "print(lista);\n",
    "\n",
    "print(\"------------------------------\")\n",
    "\n",
    "for elem in lista:\n",
    "    print(elem)"
   ]
  },
  {
   "cell_type": "markdown",
   "id": "5a172372",
   "metadata": {},
   "source": [
    "<b>Zadanie 1.</b> Napisz program obliczający sumę wszystkich liczb w liście. Nie wykorzystuj wbudowanej funkcji sumowania!"
   ]
  },
  {
   "cell_type": "code",
   "execution_count": 3,
   "id": "b11732d5",
   "metadata": {
    "scrolled": true
   },
   "outputs": [],
   "source": [
    "lista = [99,66,77,53,7,68,24,83,61,8,33,64,47,32,84,41,52,1,67,48,45,75]\n"
   ]
  },
  {
   "cell_type": "markdown",
   "id": "58639a29",
   "metadata": {},
   "source": [
    "<b>Zadanie 2.</b> Napisz program wyszukujący najmniejszy i największy element na liście. Nie wykorzystuj wbudowanej funkcji."
   ]
  },
  {
   "cell_type": "code",
   "execution_count": 2,
   "id": "464f70c6",
   "metadata": {},
   "outputs": [],
   "source": [
    "lista = [99,66,77,53,7,68,24,83,61,8,33,64,47,32,84,41,52,1,67,48,45,75]\n"
   ]
  },
  {
   "cell_type": "markdown",
   "id": "3143e7b8",
   "metadata": {},
   "source": [
    "<b>Zadanie 3.</b> Napisz program, który pomnoży każdą liczbę umieszczoną w liście przez 2."
   ]
  },
  {
   "cell_type": "code",
   "execution_count": 4,
   "id": "15e60129",
   "metadata": {},
   "outputs": [],
   "source": [
    "lista = [10,20,30,40,50,60,70,80,90,100,110,120,130,140,150]\n"
   ]
  },
  {
   "cell_type": "markdown",
   "id": "f7e825d3",
   "metadata": {},
   "source": [
    "<b>Przykład 2.</b> Aby dodać element (na koniec listy) do listy, możemy użyć metody <b>append()</b>"
   ]
  },
  {
   "cell_type": "code",
   "execution_count": 49,
   "id": "2f48a565",
   "metadata": {
    "scrolled": true
   },
   "outputs": [
    {
     "name": "stdout",
     "output_type": "stream",
     "text": [
      "[10, 1, 15, 20, 5]\n"
     ]
    }
   ],
   "source": [
    "lista = [10, 1, 15, 20]\n",
    "\n",
    "lista.append(5)\n",
    "\n",
    "print(lista)"
   ]
  },
  {
   "cell_type": "markdown",
   "id": "f9c1aedd",
   "metadata": {},
   "source": [
    "<b>Zadanie 4.</b> Napisz program wstawiający do listy elementy zapisane w pliku zad_4.txt."
   ]
  },
  {
   "cell_type": "code",
   "execution_count": null,
   "id": "903b2078",
   "metadata": {},
   "outputs": [],
   "source": []
  },
  {
   "cell_type": "markdown",
   "id": "0440e2ff",
   "metadata": {},
   "source": [
    "<b>Zadanie 5.</b> Napisz program wstawiający do listy liczby z pliku zad_5.txt, tylko te, które są parzyste."
   ]
  },
  {
   "cell_type": "code",
   "execution_count": null,
   "id": "e5494d7a",
   "metadata": {},
   "outputs": [],
   "source": []
  },
  {
   "cell_type": "markdown",
   "id": "f5f67b08",
   "metadata": {},
   "source": [
    "<b>Przykład 3.</b> Możemy także dodawać elementy do tablicy w wybraną przez nas pozycję. Służy do tego celu metoda <b>insert()</b>."
   ]
  },
  {
   "cell_type": "code",
   "execution_count": 62,
   "id": "4cc88586",
   "metadata": {},
   "outputs": [
    {
     "name": "stdout",
     "output_type": "stream",
     "text": [
      "['apple', 'banana', 'orange', 'cherry']\n"
     ]
    }
   ],
   "source": [
    "lista = [\"apple\", \"banana\", \"cherry\"]\n",
    "\n",
    "lista.insert(2, \"orange\")\n",
    "\n",
    "print(lista)"
   ]
  },
  {
   "cell_type": "markdown",
   "id": "e1a15447",
   "metadata": {},
   "source": [
    "<b>Przykład 4.</b> Aby usunąć interesujący nas element z listy, możemy użyć metody <b>remove()</b>"
   ]
  },
  {
   "cell_type": "code",
   "execution_count": 51,
   "id": "2ca49027",
   "metadata": {},
   "outputs": [
    {
     "name": "stdout",
     "output_type": "stream",
     "text": [
      "['apple', 'cherry']\n"
     ]
    }
   ],
   "source": [
    "lista = [\"apple\", \"banana\", \"cherry\"]\n",
    "\n",
    "lista.remove(\"banana\")\n",
    "\n",
    "print(lista)"
   ]
  },
  {
   "cell_type": "markdown",
   "id": "69a9f068",
   "metadata": {},
   "source": [
    "<b>Przykład 5.</b> Aby usunąć element znajdujący się na podanej pozycji, możemy użyć metody <b>pop()</b>. Jeżeli metodzie nie podamy argumentu (pozycji elementu w tablicy), zostanie usunięty ostatni element tablicy."
   ]
  },
  {
   "cell_type": "code",
   "execution_count": 56,
   "id": "a7dce09f",
   "metadata": {},
   "outputs": [
    {
     "name": "stdout",
     "output_type": "stream",
     "text": [
      "['banana', 'cherry']\n",
      "['banana', 'cherry', 'orange', 'pear']\n",
      "['banana', 'cherry', 'orange']\n"
     ]
    }
   ],
   "source": [
    "lista = [\"apple\", \"banana\", \"cherry\"]\n",
    "\n",
    "#usuwamy element z pozycji 0\n",
    "lista.pop(0)\n",
    "\n",
    "print(lista)\n",
    "\n",
    "#dodajemy dwa elementy\n",
    "lista.append(\"orange\")\n",
    "lista.append(\"pear\")\n",
    "\n",
    "print(lista)\n",
    "\n",
    "#usuwamy ostatni element (pear)\n",
    "lista.pop()\n",
    "\n",
    "print(lista)"
   ]
  },
  {
   "cell_type": "markdown",
   "id": "c38b2aef",
   "metadata": {},
   "source": [
    "<b>Przykład 6.</b> Możemy także usuwać elementy za pomocą słowa kluczowego <b>del</b>. Użycie słowa kluczowego del dla całej tablicy, usuwa całą tablicę."
   ]
  },
  {
   "cell_type": "code",
   "execution_count": 23,
   "id": "a05f565c",
   "metadata": {},
   "outputs": [
    {
     "name": "stdout",
     "output_type": "stream",
     "text": [
      "['banana', 'cherry']\n",
      "['cherry']\n"
     ]
    }
   ],
   "source": [
    "lista = [\"apple\", \"banana\", \"cherry\"]\n",
    "\n",
    "del lista[0]\n",
    "\n",
    "print(lista)\n",
    "\n",
    "del lista\n",
    "\n",
    "#print(lista) - w przypadku wykonania, wyskoczy błąd lista is not defined \n",
    "\n",
    "\n",
    "#usuwanie danych z pewnego zakresu\n",
    "\n",
    "lista = [\"apple\", \"banana\", \"cherry\"]\n",
    "\n",
    "del lista[0:2]\n",
    "\n",
    "print(lista)"
   ]
  },
  {
   "cell_type": "markdown",
   "id": "7ea2bd5e",
   "metadata": {},
   "source": [
    "<b>Zadanie 6.</b> Dodaj podane w pliku zad_6.txt liczby do listy. Następnie usuń z listy wystąpienia najmniejszej i największej liczby."
   ]
  },
  {
   "cell_type": "code",
   "execution_count": null,
   "id": "e30d1ef2",
   "metadata": {},
   "outputs": [],
   "source": []
  },
  {
   "cell_type": "markdown",
   "id": "41855a14",
   "metadata": {},
   "source": [
    "<b>Przykład 7.</b> Metodę <b>clear()</b> wykorzystujemy do usuwania wszystkich elementów tablicy. Sama lista dalej istnieje, jednak jest ona pusta. "
   ]
  },
  {
   "cell_type": "code",
   "execution_count": 58,
   "id": "9a7d1480",
   "metadata": {},
   "outputs": [
    {
     "name": "stdout",
     "output_type": "stream",
     "text": [
      "[]\n"
     ]
    }
   ],
   "source": [
    "lista = [\"apple\", \"banana\", \"cherry\"]\n",
    "\n",
    "lista.clear()\n",
    "\n",
    "print(lista)"
   ]
  },
  {
   "cell_type": "markdown",
   "id": "d8ecfbf6",
   "metadata": {},
   "source": [
    "<b>Przykład 8.</b> Aby w prosty sposób utworzyć listę z określonym zakresem liczbowym (a nawet ustalonym skokiem liczbowym) możemy wykorzystać znaną z pętli funkcję <b>range()</b>."
   ]
  },
  {
   "cell_type": "code",
   "execution_count": 9,
   "id": "679a175a",
   "metadata": {},
   "outputs": [
    {
     "name": "stdout",
     "output_type": "stream",
     "text": [
      "[1, 2, 3, 4, 5, 6, 7, 8, 9, 10]\n",
      "[1, 3, 5, 7, 9]\n"
     ]
    }
   ],
   "source": [
    "lista = list(range(1, 11))\n",
    "\n",
    "print(lista)\n",
    "\n",
    "lista = list(range(1, 11, 2))\n",
    "\n",
    "print(lista)"
   ]
  },
  {
   "cell_type": "markdown",
   "id": "1b9adabd",
   "metadata": {},
   "source": [
    "<b>Zadanie 7.</b> Wypisz listę zawierającą liczby od 1 do 50 z pomocą funkcji <b>range()</b>."
   ]
  },
  {
   "cell_type": "code",
   "execution_count": null,
   "id": "6c4d765a",
   "metadata": {},
   "outputs": [],
   "source": []
  },
  {
   "cell_type": "markdown",
   "id": "0fcf2f6f",
   "metadata": {},
   "source": [
    "<b>Zadanie 8.</b> Stwórz i wypisz listy zawierające liczby o podanych na wejściu zakresach wykorzystując funkcję <b>range()</b>. Zakresy podane są w pliku zad_8.txt."
   ]
  },
  {
   "cell_type": "code",
   "execution_count": null,
   "id": "4e75cc9f",
   "metadata": {},
   "outputs": [],
   "source": []
  },
  {
   "cell_type": "markdown",
   "id": "c4e6fd0d",
   "metadata": {},
   "source": [
    "<b>Zadanie 9.</b> W pliku zad_9.txt zostały podane liczby. Pierwsza liczba określa pierwszą liczbę w ciągu liczbowym, natomiast druga - drugą. Trzecia liczba to ostatnia liczba w tym ciągu. Stwórz listy zawierające ciągi liczbowe oraz je wypisz."
   ]
  },
  {
   "cell_type": "code",
   "execution_count": null,
   "id": "98f74bbf",
   "metadata": {},
   "outputs": [],
   "source": []
  },
  {
   "cell_type": "markdown",
   "id": "b605174e",
   "metadata": {},
   "source": [
    "<b>Zadanie 10.</b> Na wejściu zostały podane wyrazy, dodaj je do listy za pomocą metody append, następnie dodaj te wyrazy, które mają podaną pozycję, gdzie powinny się znajdować. Wykorzystaj do tego metodę insert. Wypisz listę po dodaniu wszystkich elementów. Wyrazy zostały umieszczone w pliku zad_10.txt."
   ]
  },
  {
   "cell_type": "code",
   "execution_count": null,
   "id": "27421cd7",
   "metadata": {},
   "outputs": [],
   "source": []
  },
  {
   "cell_type": "markdown",
   "id": "20f1ef85",
   "metadata": {},
   "source": [
    "<b>Przykład 9.</b> Funkcja <b>enumerate</b> przyjmuje jako argument listę i zwraca listę krotek zawierających połączone w pary indeksy oraz elementy z listy. Funkcja może przyjąć jako argument listę."
   ]
  },
  {
   "cell_type": "code",
   "execution_count": 64,
   "id": "477f6463",
   "metadata": {},
   "outputs": [
    {
     "name": "stdout",
     "output_type": "stream",
     "text": [
      "1 poniedizałek\n",
      "2 wtorek\n",
      "3 środa\n",
      "4 czwartek\n",
      "5 piątek\n",
      "6 sobota\n",
      "7 niedziela\n"
     ]
    }
   ],
   "source": [
    "dniTygodnia = [\"poniedizałek\", \"wtorek\", \"środa\", \"czwartek\", \"piątek\", \"sobota\", \"niedziela\"]\n",
    "\n",
    "for i, day in enumerate(dniTygodnia):\n",
    "    print(str(i+1) + \" \" + day)"
   ]
  },
  {
   "cell_type": "markdown",
   "id": "ba204e6d",
   "metadata": {},
   "source": [
    "<b>Zadanie 11.</b> Dodaj podane wyrazy do listy, a następnie odnajdź indeks ostatniego wystąpnienia najkrótszego i najdłuższego wyrazu. Następnie wykorzystaj funkcję del, aby usunąć elementy pomiędzy najkrótszym i najdłuższym wyrazem (włącznie z nimi). Wypisz po kolei elementy finalnej listy. Wyrazy zostały umieszczone w pliku zad_11.txt."
   ]
  },
  {
   "cell_type": "code",
   "execution_count": null,
   "id": "a52d9446",
   "metadata": {},
   "outputs": [],
   "source": []
  }
 ],
 "metadata": {
  "kernelspec": {
   "display_name": "Python 3 (ipykernel)",
   "language": "python",
   "name": "python3"
  },
  "language_info": {
   "codemirror_mode": {
    "name": "ipython",
    "version": 3
   },
   "file_extension": ".py",
   "mimetype": "text/x-python",
   "name": "python",
   "nbconvert_exporter": "python",
   "pygments_lexer": "ipython3",
   "version": "3.9.13"
  }
 },
 "nbformat": 4,
 "nbformat_minor": 5
}
