{
 "cells": [
  {
   "cell_type": "markdown",
   "id": "fdce8634",
   "metadata": {},
   "source": [
    "# Przeciążanie operatorów"
   ]
  },
  {
   "cell_type": "markdown",
   "id": "6a198da8",
   "metadata": {},
   "source": [
    "<b>Przykład 1.</b> Bardzo przydatną rzeczą jest przeciążanie operatorów. Polega ono na stworzeniu odpowiednich metod, które umożliwiają np. dodawanie i odejmowanie dwóch obiektów tej samej klasy. `__add__` to dodawanie, a `__sub__` to odejmowanie."
   ]
  },
  {
   "cell_type": "code",
   "execution_count": 5,
   "id": "43bb6c3a",
   "metadata": {},
   "outputs": [
    {
     "name": "stdout",
     "output_type": "stream",
     "text": [
      "10\n",
      "2\n",
      "10\n"
     ]
    }
   ],
   "source": [
    "class Liczba:\n",
    "    def __init__(self, wartosc):\n",
    "        self.wartosc = wartosc\n",
    "        \n",
    "    def __add__(self, innaLiczba):\n",
    "        return self.wartosc + innaLiczba.wartosc\n",
    "    \n",
    "    def __sub__(self, innaLiczba):\n",
    "        return self.wartosc - innaLiczba.wartosc\n",
    "    \n",
    "    \n",
    "six = Liczba(6)\n",
    "four = Liczba(4)\n",
    "\n",
    "print(six + four)\n",
    "print(six - four)\n",
    "\n",
    "wynik = six + four #tworzona jest zmienna typu int, nie obiekt typu Liczba\n",
    "print(wynik)"
   ]
  },
  {
   "cell_type": "markdown",
   "id": "5a172372",
   "metadata": {},
   "source": [
    "<b>Zadanie 1.</b> Stwórz klasę <b>Punkt</b>, która przyjmuje dwie wartości pól x i y. Następnie wypisz dla stworzonej pary punktów wyniki operacji dodawania i odejmowania w formacie (x, y), oddzielone tabulatorem."
   ]
  },
  {
   "cell_type": "code",
   "execution_count": 13,
   "id": "b11732d5",
   "metadata": {
    "scrolled": true
   },
   "outputs": [
    {
     "name": "stdout",
     "output_type": "stream",
     "text": [
      "(25, 3)\t(-5, 3)\n"
     ]
    }
   ],
   "source": [
    "   "
   ]
  },
  {
   "cell_type": "markdown",
   "id": "58639a29",
   "metadata": {},
   "source": [
    "<b>Przykład 2.</b> Kolejnymi metodami służącymi do przeciążania operatorów, które poznamy to mnożenie i dzielenie. Metoda `__mul__` to operator *, natomiast `__truediv__` to /."
   ]
  },
  {
   "cell_type": "code",
   "execution_count": 15,
   "id": "464f70c6",
   "metadata": {},
   "outputs": [
    {
     "name": "stdout",
     "output_type": "stream",
     "text": [
      "24.0\n",
      "1.5\n"
     ]
    }
   ],
   "source": [
    "class Liczba:\n",
    "    def __init__(self, wartosc):\n",
    "        self.wartosc = float(wartosc)\n",
    "        \n",
    "    def __mul__(self, innaLiczba):\n",
    "        return self.wartosc * innaLiczba.wartosc\n",
    "    \n",
    "    def __truediv__(self, innaLiczba):\n",
    "        return self.wartosc / innaLiczba.wartosc\n",
    "    \n",
    "    \n",
    "six = Liczba(6)\n",
    "four = Liczba(4)\n",
    "\n",
    "print(six * four)\n",
    "print(six / four)"
   ]
  },
  {
   "cell_type": "markdown",
   "id": "f7e825d3",
   "metadata": {},
   "source": [
    "<b>Zadanie 2.</b> Stwórz klasę Vector, która przyjmuje dwie wartości pól x i y, podane na wejściu. Następnie wypisz wynik mnożenia wektora (współżędne w formacie [x,y]) prze podaną liczbę.\n",
    "\n",
    "Np. Vector 20, 26 -> 9 = [180, 234]"
   ]
  },
  {
   "cell_type": "code",
   "execution_count": null,
   "id": "2f48a565",
   "metadata": {
    "scrolled": true
   },
   "outputs": [],
   "source": []
  },
  {
   "cell_type": "markdown",
   "id": "f9c1aedd",
   "metadata": {},
   "source": [
    "<b>Zadanie 3.</b> Na wejściu podano nazwę produktu, jego cenę oraz zakupioną ilość. Stwórz klasę Produkt, która zawiera pola name i price. Następnie pomnóż obiekt przez podaną ilość i wypisz nazwę produktu  i cenę oddzieloną tabulatorem. Wynik podaj w postaci zmiennoprzecinkowej."
   ]
  },
  {
   "cell_type": "code",
   "execution_count": null,
   "id": "903b2078",
   "metadata": {},
   "outputs": [],
   "source": []
  },
  {
   "cell_type": "markdown",
   "id": "0440e2ff",
   "metadata": {},
   "source": [
    "<b>Przykład 3.</b> Aby móc porównać dwa obiekty tej samej klay, musimy przeciążyć kolejne dwa operatory: < `__lt__` oraz > `__gt__`."
   ]
  },
  {
   "cell_type": "code",
   "execution_count": 29,
   "id": "e5494d7a",
   "metadata": {},
   "outputs": [
    {
     "name": "stdout",
     "output_type": "stream",
     "text": [
      "True\n",
      "False\n"
     ]
    }
   ],
   "source": [
    "class Liczba:\n",
    "    def __init__(self, wartosc):\n",
    "        self.wartosc = wartosc\n",
    "        \n",
    "    def __lt__(self, innaLiczba):\n",
    "        return self.wartosc < innaLiczba.wartosc\n",
    "    \n",
    "    def __gt__(self, other):\n",
    "        return self.wartosc > other.wartosc\n",
    "    \n",
    "six = Liczba(6)\n",
    "four = Liczba(4)\n",
    "\n",
    "print(six > four)\n",
    "print(six < four)"
   ]
  },
  {
   "cell_type": "markdown",
   "id": "b0e2a70d",
   "metadata": {},
   "source": [
    "<b>Zadanie 4.</b> Stwórz klasę person, zawierającą pola imie oraz wiek. Stwórz obiekty na podstawie podanych danych w pliku zad_4.txt oraz posortuj według wieku (rosnąco, potem malejąco). Wypisz wartości imie i wiek oddzielone tabulatorem według podanej  kolejności."
   ]
  },
  {
   "cell_type": "code",
   "execution_count": null,
   "id": "61d07417",
   "metadata": {},
   "outputs": [],
   "source": []
  },
  {
   "cell_type": "markdown",
   "id": "f5f67b08",
   "metadata": {},
   "source": [
    "<b>Przykład 4.</b> Kolejnymi operatorami, które możemy przeciążyć to == `__eq__`oraz != `__ne__` Umożliwiają one porównywanie dwóch obiektów."
   ]
  },
  {
   "cell_type": "code",
   "execution_count": 4,
   "id": "4cc88586",
   "metadata": {},
   "outputs": [
    {
     "name": "stdout",
     "output_type": "stream",
     "text": [
      "False\n",
      "True\n"
     ]
    }
   ],
   "source": [
    "class Liczba:\n",
    "    def __init__(self, wartosc):\n",
    "        self.wartosc = wartosc\n",
    "        \n",
    "    def __eq__(self, innaLiczba):\n",
    "        return self.wartosc == innaLiczba.wartosc\n",
    "    \n",
    "    def __ne__(self, innaLiczba):\n",
    "        return self.wartosc != innaLiczba.wartosc\n",
    "    \n",
    "six = Liczba(6)\n",
    "four = Liczba(4)\n",
    "\n",
    "print(six == four)\n",
    "print(four != six)"
   ]
  },
  {
   "cell_type": "markdown",
   "id": "e1a15447",
   "metadata": {},
   "source": [
    "<b>Zadanie 5.</b> Stwórz klasę Vector, które utworzy na postawie podanych współrzędnych w pliku zad_5.txt oraz obliczy ich długości. Następnie przeciąż operator == i sprawdź czy podane pary wektorów są tej samej długości."
   ]
  },
  {
   "cell_type": "code",
   "execution_count": null,
   "id": "2ca49027",
   "metadata": {},
   "outputs": [],
   "source": []
  },
  {
   "cell_type": "code",
   "execution_count": null,
   "id": "a52d9446",
   "metadata": {},
   "outputs": [],
   "source": []
  }
 ],
 "metadata": {
  "kernelspec": {
   "display_name": "Python 3 (ipykernel)",
   "language": "python",
   "name": "python3"
  },
  "language_info": {
   "codemirror_mode": {
    "name": "ipython",
    "version": 3
   },
   "file_extension": ".py",
   "mimetype": "text/x-python",
   "name": "python",
   "nbconvert_exporter": "python",
   "pygments_lexer": "ipython3",
   "version": "3.9.13"
  }
 },
 "nbformat": 4,
 "nbformat_minor": 5
}
