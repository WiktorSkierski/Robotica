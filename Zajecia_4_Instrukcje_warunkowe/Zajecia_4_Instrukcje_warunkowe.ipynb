{
 "cells": [
  {
   "cell_type": "markdown",
   "id": "fdce8634",
   "metadata": {},
   "source": [
    "# Instrukcje Warunkowe - wstęp"
   ]
  },
  {
   "cell_type": "markdown",
   "id": "6a198da8",
   "metadata": {},
   "source": [
    "<b>Przykład 1.</b> Czas na instrukcje warunkowe, służą one do sprawdzenia, czy zadane wyrażenie warunkowe jest prawdziwe. W tym przykładzie, jeśli podana przez użytkownika liczba będzie równa 7, wypisze się napis <b>\"Liczba podana przez użytkownika to 7\"</b> w przeciwnym przypadku wypisze wię napis <b>\"Liczba podana przez użytkownika jest różna od 7\"</b>"
   ]
  },
  {
   "cell_type": "code",
   "execution_count": 4,
   "id": "43bb6c3a",
   "metadata": {},
   "outputs": [
    {
     "name": "stdout",
     "output_type": "stream",
     "text": [
      "Podaj liczbę: 7\n",
      "Liczba podana przez użytkownika to 7\n"
     ]
    }
   ],
   "source": [
    "number = int(input(\"Podaj liczbę: \"))\n",
    "\n",
    "if number == 7:\n",
    "    print(\"Liczba podana przez użytkownika to 7\")\n",
    "else:\n",
    "    print(\"Liczba podana przez użytkownika jest różna od 7\")"
   ]
  },
  {
   "cell_type": "markdown",
   "id": "5a172372",
   "metadata": {},
   "source": [
    "<b>Zadanie 1.</b> Napisz program, który sprawdzi czy podana liczba na wejściu jest równa 99. Jeśli tak, to wypisze napis <b>\"Liczba to 99\"</b> w przeciwnym przypadku <b>\"Liczba nie równa się 99\"</b>."
   ]
  },
  {
   "cell_type": "code",
   "execution_count": null,
   "id": "b11732d5",
   "metadata": {
    "scrolled": true
   },
   "outputs": [],
   "source": []
  },
  {
   "cell_type": "markdown",
   "id": "f7e825d3",
   "metadata": {},
   "source": [
    "<b>Zadanie 2.</b> Wykorzystując pętlę for sprawdź, czy podane liczby są równe 5. Jeśli tak wypisz \"Liczba to 5\", w przeciwnym przypadku \"Liczba nie równa się 5\". Dane znajdują się w pliku \"zad_2.txt\"."
   ]
  },
  {
   "cell_type": "code",
   "execution_count": null,
   "id": "2f48a565",
   "metadata": {
    "scrolled": true
   },
   "outputs": [],
   "source": []
  },
  {
   "cell_type": "markdown",
   "id": "e1a15447",
   "metadata": {},
   "source": [
    "<b>Zadanie 3.</b> Wypisz słowa znajdujące się w pliku \"zad_3.txt\", które składają się z więcej niż 3 liter."
   ]
  },
  {
   "cell_type": "code",
   "execution_count": null,
   "id": "2ca49027",
   "metadata": {},
   "outputs": [],
   "source": []
  },
  {
   "cell_type": "markdown",
   "id": "69a9f068",
   "metadata": {},
   "source": [
    "<b>Zadanie 4.</b> Wypisz wartości bezwzględne liczb podanych w pliku \"zad_4.txt\". Wykorzystaj instrunkcję warunkową."
   ]
  },
  {
   "cell_type": "code",
   "execution_count": null,
   "id": "a7dce09f",
   "metadata": {},
   "outputs": [],
   "source": []
  },
  {
   "cell_type": "markdown",
   "id": "c38b2aef",
   "metadata": {},
   "source": [
    "<b>Przykład 2.</b> Program, który za pomocą instrukcji warunkowej sprawdza, czy podana liczba jest parzysta czy nieparzysta."
   ]
  },
  {
   "cell_type": "code",
   "execution_count": 32,
   "id": "a05f565c",
   "metadata": {},
   "outputs": [
    {
     "name": "stdout",
     "output_type": "stream",
     "text": [
      "Podaj liczbę:3\n",
      "Liczba jest nieparzysta.\n"
     ]
    }
   ],
   "source": [
    "number = int(input('Podaj liczbę:'))\n",
    "\n",
    "if(number % 2 == 0):\n",
    "    print(\"Liczba jest parzysta\")\n",
    "else:\n",
    "    print(\"Liczba jest nieparzysta.\")"
   ]
  },
  {
   "cell_type": "markdown",
   "id": "41855a14",
   "metadata": {},
   "source": [
    "<b>Zadanie 5.</b> Sprawdź, czy liczba podana na wejściu jest podzielna przez 3, jeśli tak to wypisz podaną liczbę i wypisz \"Liczba jest podzielna przez 3\" w przeciwnym przypadku wypisz liczbę i napisz \"Liczba nie jest podzielna przez 3\""
   ]
  },
  {
   "cell_type": "code",
   "execution_count": null,
   "id": "9a7d1480",
   "metadata": {},
   "outputs": [],
   "source": []
  },
  {
   "cell_type": "markdown",
   "id": "d8ecfbf6",
   "metadata": {},
   "source": [
    "<b>Zadanie 6.</b> Sprawdź, czy liczba w pierwszej kolumnie jest podzielna przez liczbę w drugiej kolumnie. Wypisz tą liczbę oraz w zależności czy jest podzielna \"jest podzielna przez \" lub \"jest nie podzielna przez \" oraz dzielnik po odpowiednim napisie."
   ]
  },
  {
   "cell_type": "code",
   "execution_count": null,
   "id": "679a175a",
   "metadata": {},
   "outputs": [],
   "source": []
  },
  {
   "cell_type": "markdown",
   "id": "1b9adabd",
   "metadata": {},
   "source": [
    "<b>Zadanie 7.</b> Na wejściu w każdej linijce zostały podane ilość cukierków oraz ilość uczniów w klasie. Sprawdź czy po rozdaniu wszystkim jak największą, taką samą ilość cukierków zostanie jeszcze jakiś cukierek. Jeżeli tak - wypisz \"True\" w przeciwnym wypadku \"False\"."
   ]
  },
  {
   "cell_type": "code",
   "execution_count": null,
   "id": "6c4d765a",
   "metadata": {},
   "outputs": [],
   "source": []
  },
  {
   "cell_type": "markdown",
   "id": "0fcf2f6f",
   "metadata": {},
   "source": [
    "<b>Zadanie 8.</b> Narysuj piramidę wysokości podanej na wejściu złożoną naprzemiennie z liter a i b.\n",
    "<code>\n",
    "a\n",
    "bb\n",
    "aaa\n",
    "bbbb\n",
    "aaaaa\n",
    "bbbbbb\n",
    "aaaaaaa\n",
    "bbbbbbbb\n",
    "</code>"
   ]
  },
  {
   "cell_type": "code",
   "execution_count": null,
   "id": "4e75cc9f",
   "metadata": {},
   "outputs": [],
   "source": []
  },
  {
   "cell_type": "markdown",
   "id": "c4e6fd0d",
   "metadata": {},
   "source": [
    "<b>Przykład 3.</b> Instrukcje warunkowe bardzo się przydają przy użyciu pętli. W tym przykładzie program wypisze liczby 0 - 19, lecz weźmie pod uwagę tylko liczby parzyste."
   ]
  },
  {
   "cell_type": "code",
   "execution_count": 58,
   "id": "98f74bbf",
   "metadata": {},
   "outputs": [
    {
     "name": "stdout",
     "output_type": "stream",
     "text": [
      "0\n",
      "2\n",
      "4\n",
      "6\n",
      "8\n",
      "10\n",
      "12\n",
      "14\n",
      "16\n",
      "18\n"
     ]
    }
   ],
   "source": [
    "for i in range (20):\n",
    "    if(i % 2 == 0):\n",
    "        print(i)"
   ]
  },
  {
   "cell_type": "markdown",
   "id": "b605174e",
   "metadata": {},
   "source": [
    "<b>Zadanie 9.</b> Korzystając z pętli for sprawdź czy podane w pliku \"zad_9.txt\" liczby są parzyste. Gdy liczba jest parzysta wypisz \"parzysta\" w przeciwnym przypadku \"nieparzysta\"."
   ]
  },
  {
   "cell_type": "code",
   "execution_count": null,
   "id": "27421cd7",
   "metadata": {},
   "outputs": [],
   "source": []
  },
  {
   "cell_type": "markdown",
   "id": "ba204e6d",
   "metadata": {},
   "source": [
    "<b>Zadanie 10.</b> Korzystając z przykładu 3 wypisz liczby, które nie są podzielne przez dwa. W przykładzie przydatny będzie znak nierówności !="
   ]
  },
  {
   "cell_type": "code",
   "execution_count": null,
   "id": "a52d9446",
   "metadata": {},
   "outputs": [],
   "source": []
  },
  {
   "cell_type": "markdown",
   "id": "07053961",
   "metadata": {},
   "source": [
    "<b>Zadanie 11.</b> Napisz program, który wypisze liczby z zakresu 0-19 podzielne przez 3"
   ]
  },
  {
   "cell_type": "code",
   "execution_count": null,
   "id": "32816470",
   "metadata": {},
   "outputs": [],
   "source": []
  },
  {
   "cell_type": "markdown",
   "id": "78004785",
   "metadata": {},
   "source": [
    "<b>Przykład 4.</b> Warunków sprawdzających może być nieskończenie wiele, w tym przykładzie używamy aż trzech do sprawdzenia jaką liczbę podał użytkownik"
   ]
  },
  {
   "cell_type": "code",
   "execution_count": 67,
   "id": "53ba301c",
   "metadata": {},
   "outputs": [
    {
     "name": "stdout",
     "output_type": "stream",
     "text": [
      "Podaj liczbę: 0\n",
      "Liczba jest równa 0\n"
     ]
    }
   ],
   "source": [
    "number = int(input(\"Podaj liczbę: \"))\n",
    "\n",
    "if(number > 0):\n",
    "    print(\"Liczba jest dodatnia.\")\n",
    "elif(number == 0):\n",
    "    print(\"Liczba jest równa 0\")\n",
    "else:\n",
    "    print(\"Liczba jest mniejsza od zera\")"
   ]
  },
  {
   "cell_type": "markdown",
   "id": "29e5a041",
   "metadata": {},
   "source": [
    "<b>Zadanie 12.</b> Napisz program, który sprawdzi, czy liczba dana na wejściu jest większa, równa lub mniejsza niż 20. Wypisz daną liczbę oraz napis \"liczba jest (mniejsza niż/większa niż/równa) 20\""
   ]
  },
  {
   "cell_type": "code",
   "execution_count": null,
   "id": "fd06f4fc",
   "metadata": {},
   "outputs": [],
   "source": []
  },
  {
   "cell_type": "markdown",
   "id": "571ef910",
   "metadata": {},
   "source": [
    "<b>Zadanie 13.</b> Napisz program, który będzie wykonywał podstawowe działania matematyczne (+, -, *, / oraz %). W pliku \"zad_12.txt\" umieszczone są kolejno operator działania oraz liczby oddzielone znakami tabulacji. Wypisz yniki działań pamiętając aby były w postaci liczb zmiennoprzecinkowych (float)"
   ]
  },
  {
   "cell_type": "code",
   "execution_count": null,
   "id": "01d4ce8a",
   "metadata": {},
   "outputs": [],
   "source": []
  },
  {
   "cell_type": "markdown",
   "id": "55d523a6",
   "metadata": {},
   "source": [
    "<b>Zadanie 14.</b> Narysuj piramidę składającą się z liter a, b i c o podanej na wejściu wysokości.\n",
    "<code>\n",
    "a\n",
    "ab\n",
    "abc\n",
    "abca\n",
    "abcab\n",
    "</code>"
   ]
  },
  {
   "cell_type": "code",
   "execution_count": null,
   "id": "4e2f61df",
   "metadata": {},
   "outputs": [],
   "source": []
  },
  {
   "cell_type": "markdown",
   "id": "cbacbc91",
   "metadata": {},
   "source": [
    "<b>Zadanie 15.</b> Napisz program, który obliczy i wypisze różnicę najmniejszej i największej z liczb podanych w pliku \"zad_15.txt\"."
   ]
  },
  {
   "cell_type": "code",
   "execution_count": null,
   "id": "94df887f",
   "metadata": {},
   "outputs": [],
   "source": []
  },
  {
   "cell_type": "markdown",
   "id": "29d433aa",
   "metadata": {},
   "source": [
    "<b>Przykład 5.</b> Program, który sprawdza czy podane liczby w pliku \"przyklad_5.txt\" są sobie równe czy różnią się od siebie."
   ]
  },
  {
   "cell_type": "code",
   "execution_count": 96,
   "id": "9cb88b14",
   "metadata": {},
   "outputs": [
    {
     "name": "stdout",
     "output_type": "stream",
     "text": [
      "Podaj liczbę a: 5\n",
      "Podaj liczbę b: 6\n",
      "Liczba 6 jest większa\n"
     ]
    }
   ],
   "source": [
    "a = int(input(\"Podaj liczbę a: \"))\n",
    "b = int(input(\"Podaj liczbę b: \"))\n",
    "\n",
    "if (a > b):\n",
    "    print(\"Liczba \" + str(a) + \" jest większa\")\n",
    "elif (a < b):\n",
    "    print(\"Liczba \" + str(b) + \" jest większa\")\n",
    "elif (a == b):\n",
    "    print(\"Liczba \" + str(a) + \" jest równa \" + str(b))"
   ]
  },
  {
   "cell_type": "markdown",
   "id": "a5d63fdb",
   "metadata": {},
   "source": [
    "<b>Zadanie 16.</b> Sprawdź i wypisz czy pierwsza liczba jest równa drugiej, mniejsza czy większa. Liczby umieszczone są w pliku \"zad_16.txt\". Przed napisem podaj pierwszą liczbę, a po nim drugą."
   ]
  },
  {
   "cell_type": "code",
   "execution_count": null,
   "id": "5cd5d15c",
   "metadata": {},
   "outputs": [],
   "source": []
  },
  {
   "cell_type": "markdown",
   "id": "f2a90b15",
   "metadata": {},
   "source": [
    "<b>Zadanie 17.</b> Gdy liczby nie są równe, wypisz liczbę większą, w przeciwnym wypadku wypisz \"Equal\". Liczby podane są w pliku \"zad_17.txt\""
   ]
  },
  {
   "cell_type": "code",
   "execution_count": null,
   "id": "aab20173",
   "metadata": {},
   "outputs": [],
   "source": []
  },
  {
   "cell_type": "markdown",
   "id": "b5401695",
   "metadata": {},
   "source": [
    "<b>Przykład 6.</b> Instrukcje warunkowe możemy zagnieżdźać, jednakże zawsze trzeba pamiętać o tym, żeby zastosować wcięcie przed instrukcjami. Nie ma ograniczeń co do ilości instrukcji warunkowych wewnątrz innej instrukcji warunkowej."
   ]
  },
  {
   "cell_type": "code",
   "execution_count": 101,
   "id": "3a5a1292",
   "metadata": {},
   "outputs": [
    {
     "name": "stdout",
     "output_type": "stream",
     "text": [
      "Masz więcej niż 18 lat\n",
      "Oraz masz więcej niż 40 lat\n"
     ]
    }
   ],
   "source": [
    "age = 50\n",
    "\n",
    "if age < 18:\n",
    "    print(\"masz mniej niż 18 lat\")\n",
    "elif age == 18:\n",
    "    print(\"Masz 18 lat\")\n",
    "else:\n",
    "    if age > 30:\n",
    "        print(\"Masz więcej niż 18 lat\")\n",
    "        if age > 40:\n",
    "            print(\"Oraz masz więcej niż 40 lat\")"
   ]
  },
  {
   "cell_type": "markdown",
   "id": "96ee73e1",
   "metadata": {},
   "source": [
    "<b>Zadanie 18.</b> Napisz program, który sprawdzi podane wyniki egzaminów. Gdy wynik egzaminu wynosi mniej niż 40 wypisz \"Nie zdałeś\", gdy jest równy lub siększy niż 40 wypisz \"Zdałeś\", Natomiast jeżeli wynik to 100, wypisz \"Wspaniale! Maksymalna ilość punktów!\". Punkty umieszczone są w pliku \"zad_18.txt\"."
   ]
  },
  {
   "cell_type": "code",
   "execution_count": null,
   "id": "a7b4bdc4",
   "metadata": {},
   "outputs": [],
   "source": []
  }
 ],
 "metadata": {
  "kernelspec": {
   "display_name": "Python 3 (ipykernel)",
   "language": "python",
   "name": "python3"
  },
  "language_info": {
   "codemirror_mode": {
    "name": "ipython",
    "version": 3
   },
   "file_extension": ".py",
   "mimetype": "text/x-python",
   "name": "python",
   "nbconvert_exporter": "python",
   "pygments_lexer": "ipython3",
   "version": "3.9.13"
  }
 },
 "nbformat": 4,
 "nbformat_minor": 5
}
