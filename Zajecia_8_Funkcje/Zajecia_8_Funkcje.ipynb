{
 "cells": [
  {
   "cell_type": "markdown",
   "id": "fdce8634",
   "metadata": {},
   "source": [
    "# Funkcje"
   ]
  },
  {
   "cell_type": "markdown",
   "id": "6a198da8",
   "metadata": {},
   "source": [
    "<b>Przykład 1.</b> Przyszedł czas na funkcje, jedna z ważniejszych części programowania. Funkcja jest to wydzielony fragment kodu, który możemy wielokrotnie używać w dowolnym mijscu poniżej niej (musi najpierw zostać utworzona aby mogła być użyta)."
   ]
  },
  {
   "cell_type": "code",
   "execution_count": 2,
   "id": "43bb6c3a",
   "metadata": {},
   "outputs": [
    {
     "name": "stdout",
     "output_type": "stream",
     "text": [
      "Academia Robotica wita!\n"
     ]
    }
   ],
   "source": [
    "def wypisz_powitanie():\n",
    "    print('Academia Robotica wita!')\n",
    "    \n",
    "wypisz_powitanie()"
   ]
  },
  {
   "cell_type": "markdown",
   "id": "5a172372",
   "metadata": {},
   "source": [
    "<b>Zadanie 1.</b> Wzorując się na poprzednim przykładzie, napisz funkcję <b>wypisz_pozegnanie</b>, która po wywołaniu wypisze napis Academia Robotica zaprasza ponownie!"
   ]
  },
  {
   "cell_type": "code",
   "execution_count": null,
   "id": "b11732d5",
   "metadata": {
    "scrolled": true
   },
   "outputs": [],
   "source": []
  },
  {
   "cell_type": "markdown",
   "id": "58639a29",
   "metadata": {},
   "source": [
    "<b>Zadanie 2.</b> Napisz funkcję, <b>wypisz_Robotica</b>, która wypisze wyraz Robotica daną na wejściu (input) razy."
   ]
  },
  {
   "cell_type": "code",
   "execution_count": null,
   "id": "464f70c6",
   "metadata": {},
   "outputs": [],
   "source": []
  },
  {
   "cell_type": "markdown",
   "id": "f7e825d3",
   "metadata": {},
   "source": [
    "<b>Przykład 2.</b> Stwórzmy swoją funkcję sumującą. Teraz, gdy będziemy chcieli coś dodać, Podajemy dane dwie liczby w nawiasy. W ten sposób zaoszczędzamy mnóstwo czasu i pamięci komputera."
   ]
  },
  {
   "cell_type": "code",
   "execution_count": 8,
   "id": "2f48a565",
   "metadata": {
    "scrolled": true
   },
   "outputs": [
    {
     "name": "stdout",
     "output_type": "stream",
     "text": [
      "7\n"
     ]
    }
   ],
   "source": [
    "def sumuj(liczba_a, liczba_b):\n",
    "    \n",
    "    wynik = liczba_a + liczba_b\n",
    "    return wynik\n",
    "    \n",
    "print(sumuj(2, 5))"
   ]
  },
  {
   "cell_type": "markdown",
   "id": "f9c1aedd",
   "metadata": {},
   "source": [
    "<b>Zadanie 3.</b> Stwórz funkcję odejmowania, która policzy i wypisze wynik z dwóch podanych na wejściu liczb."
   ]
  },
  {
   "cell_type": "code",
   "execution_count": null,
   "id": "903b2078",
   "metadata": {},
   "outputs": [],
   "source": []
  },
  {
   "cell_type": "markdown",
   "id": "0440e2ff",
   "metadata": {},
   "source": [
    "<b>Zadanie 4.</b> Stwórz funkcję polacz_wyrazy, która łączy dwa podane na wejściu słowa i wypisze wynik."
   ]
  },
  {
   "cell_type": "code",
   "execution_count": null,
   "id": "e5494d7a",
   "metadata": {},
   "outputs": [],
   "source": []
  },
  {
   "cell_type": "markdown",
   "id": "f5f67b08",
   "metadata": {},
   "source": [
    "<b>Zadanie 5.</b> Napisz funkcję max_liczba, która wypisze największą liczbę z podanych w liście"
   ]
  },
  {
   "cell_type": "code",
   "execution_count": 3,
   "id": "4cc88586",
   "metadata": {},
   "outputs": [],
   "source": [
    "lista = [66,77,53,7,68,24,83,61,8,33,64,47,99,32,84,41,52,1,67,48,45,75]"
   ]
  },
  {
   "cell_type": "markdown",
   "id": "e1a15447",
   "metadata": {},
   "source": [
    "<b>Przykład 4.</b> Funkcje możemy łączyć oraz używać wielokrotnie. W tym przykładzie używamy funkcji. Funkcja <>bsumuj</b> zwraca za pomocą return liczbę całkowitą, która trafia do funkcji <b>wypisz</b>, która ją wypisze dodając napisz."
   ]
  },
  {
   "cell_type": "code",
   "execution_count": 16,
   "id": "2ca49027",
   "metadata": {},
   "outputs": [
    {
     "name": "stdout",
     "output_type": "stream",
     "text": [
      "Wynik dodawania to: 11\n"
     ]
    }
   ],
   "source": [
    "def wypisz(wynik):\n",
    "    print('Wynik dodawania to: ' + str(wynik))\n",
    "\n",
    "def sumuj(liczba_a, liczba_b):\n",
    "    \n",
    "    wynik = liczba_a + liczba_b\n",
    "    return wynik\n",
    "\n",
    "\n",
    "wypisz(sumuj(5, 6))"
   ]
  },
  {
   "cell_type": "markdown",
   "id": "69a9f068",
   "metadata": {},
   "source": [
    "<b>Zadanie 6.</b> Stwórz kalkulator wzorując się na poprzednich zadaniach. Stwórz osobne funkcje dla działań:\n",
    "- dodawanie\n",
    "- odejmowanie\n",
    "- dzielienie\n",
    "- mnożenie.<br>\n",
    "Ponadto stwórz funkcję <b>kalkulator</b>, która będzie przyjmowała dwie liczb oraz znak określający działanie:\n",
    "- dodawanie - +\n",
    "- odejmowanie - -\n",
    "- dzielienie - /\n",
    "- mnożenie - *.<br>\n",
    "Znak w funkcji kalkulator podawaj w ' ' np: '+'"
   ]
  },
  {
   "cell_type": "code",
   "execution_count": null,
   "id": "a7dce09f",
   "metadata": {},
   "outputs": [],
   "source": []
  },
  {
   "cell_type": "markdown",
   "id": "c38b2aef",
   "metadata": {},
   "source": [
    "<b>Przykład 4.</b> Funkcja sprawdzająca, czy dana przez użytkownika liczba jest parzysta."
   ]
  },
  {
   "cell_type": "code",
   "execution_count": 23,
   "id": "a05f565c",
   "metadata": {},
   "outputs": [
    {
     "name": "stdout",
     "output_type": "stream",
     "text": [
      "False\n",
      "True\n",
      "True\n",
      "True\n",
      "True\n",
      "True\n",
      "False\n",
      "False\n",
      "True\n",
      "False\n",
      "False\n"
     ]
    }
   ],
   "source": [
    "def czy_parzysta(liczba):\n",
    "    if(liczba % 2 == 0):\n",
    "        return True\n",
    "    else:\n",
    "        return False\n",
    "\n",
    "file = open('przyklad_4.txt', 'r')\n",
    "\n",
    "for number in file:\n",
    "    print(czy_parzysta(int(number)))\n",
    "        \n",
    "file.close()"
   ]
  },
  {
   "cell_type": "markdown",
   "id": "7ea2bd5e",
   "metadata": {},
   "source": [
    "<b>Zadanie 7.</b> Napisz funkcję czy_kwadrat, która sprawdzi czy podana na wejściu liczba jest kwadratem innej liczby, jeśli tak typisz True w przeciwnym przypadku wypisz false. Liczby znajdują się w pliku zad_7.txt. Aby obliczyć pierwiastek liczby należy użyć math.sqrt(nasza_liczba)."
   ]
  },
  {
   "cell_type": "code",
   "execution_count": null,
   "id": "e30d1ef2",
   "metadata": {},
   "outputs": [],
   "source": []
  },
  {
   "cell_type": "markdown",
   "id": "41855a14",
   "metadata": {},
   "source": [
    "<b>Zadanie 8.</b> Napisz Funkcję, która sprawdzi czy podany wyraz jest palindromem. Palindrom jest to taki wyraz, który brzmi tak samo czytane od początku jak i od końca."
   ]
  },
  {
   "cell_type": "code",
   "execution_count": null,
   "id": "9a7d1480",
   "metadata": {},
   "outputs": [],
   "source": []
  },
  {
   "cell_type": "markdown",
   "id": "d8ecfbf6",
   "metadata": {},
   "source": [
    "<b>Przykład 5.</b> W celu stworzenia funkcji z nieokreśloną liczbą argumentów, dodajemy * przed nazwą argumentu aby zdefiniować go jako tablica zmiennych."
   ]
  },
  {
   "cell_type": "code",
   "execution_count": 45,
   "id": "679a175a",
   "metadata": {},
   "outputs": [
    {
     "name": "stdout",
     "output_type": "stream",
     "text": [
      "1135\n"
     ]
    }
   ],
   "source": [
    "def sumuj(*liczby):\n",
    "    suma = 0\n",
    "    for liczba in liczby:\n",
    "        suma += i\n",
    "    print(str(suma))\n",
    "    \n",
    "licz(2, 5, 7, 9)"
   ]
  },
  {
   "cell_type": "markdown",
   "id": "1b9adabd",
   "metadata": {},
   "source": [
    "<b>Przykład 6.</b> Aby wykorzystać elementy z listy jako wiele argumentów funkcji, najpierw musimy ją przekonwertować na tablicę zmiennych."
   ]
  },
  {
   "cell_type": "code",
   "execution_count": 47,
   "id": "6c4d765a",
   "metadata": {},
   "outputs": [
    {
     "name": "stdout",
     "output_type": "stream",
     "text": [
      "1135\n"
     ]
    }
   ],
   "source": [
    "def sumuj(*liczby):\n",
    "    suma = 0\n",
    "    for liczba in liczby:\n",
    "        suma += i\n",
    "    print(str(suma))\n",
    "\n",
    "liczby = [66,77,53,7,68,24,83,61,8,33,64,47,99,32,84,41,52,1,67,48,45,75]\n",
    "\n",
    "licz(*liczby)"
   ]
  },
  {
   "cell_type": "markdown",
   "id": "0fcf2f6f",
   "metadata": {},
   "source": [
    "<b>Zadanie 9.</b> Stwórz funkcję sgn, która obliczy funkcję signum podanych liczb, a następnie wypisze jej wynik. Liczby znajdują się w pliku zad_9.txt\n",
    "\n",
    "Funkcja signum to taka funkcja, która fla liczb mniejszych od zera daje wartosć -1, dla liczby 0 daje wynik 0, a dla liczb dodatnich daje wartość 1."
   ]
  },
  {
   "cell_type": "code",
   "execution_count": null,
   "id": "4e75cc9f",
   "metadata": {},
   "outputs": [],
   "source": []
  },
  {
   "cell_type": "markdown",
   "id": "c4e6fd0d",
   "metadata": {},
   "source": [
    "<b>Zadanie 10.</b> Wypisz słowa, które złożone są tylko z litery a i z litery b. Słowa te zapisane są w pliku zad_10.txt. Aby z wyrazu usunąć znak końca lini wykonaj funkcję rstrip: wyraz = wyraz.rstrip(wyraz[-1])"
   ]
  },
  {
   "cell_type": "code",
   "execution_count": null,
   "id": "98f74bbf",
   "metadata": {},
   "outputs": [],
   "source": []
  },
  {
   "cell_type": "code",
   "execution_count": null,
   "id": "a52d9446",
   "metadata": {},
   "outputs": [],
   "source": []
  }
 ],
 "metadata": {
  "kernelspec": {
   "display_name": "Python 3 (ipykernel)",
   "language": "python",
   "name": "python3"
  },
  "language_info": {
   "codemirror_mode": {
    "name": "ipython",
    "version": 3
   },
   "file_extension": ".py",
   "mimetype": "text/x-python",
   "name": "python",
   "nbconvert_exporter": "python",
   "pygments_lexer": "ipython3",
   "version": "3.9.13"
  }
 },
 "nbformat": 4,
 "nbformat_minor": 5
}
