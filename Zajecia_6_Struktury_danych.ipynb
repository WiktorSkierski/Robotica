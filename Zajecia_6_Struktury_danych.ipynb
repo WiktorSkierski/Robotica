{
 "cells": [
  {
   "cell_type": "markdown",
   "id": "fdce8634",
   "metadata": {},
   "source": [
    "# Struktury danych"
   ]
  },
  {
   "cell_type": "markdown",
   "id": "6a198da8",
   "metadata": {},
   "source": [
    "<b>Przykład 1.</b> W języku Pytchon istnieją trzy typy danych int(integer) - liczba całkowita, float - liczba zmiennoprzecinkowa i string - łańcuch znaków"
   ]
  },
  {
   "cell_type": "code",
   "execution_count": 1,
   "id": "43bb6c3a",
   "metadata": {},
   "outputs": [
    {
     "name": "stdout",
     "output_type": "stream",
     "text": [
      "14.5\n",
      "Robotica\n"
     ]
    }
   ],
   "source": [
    "liczba_integer = 7\n",
    "\n",
    "zmienno = 7.5\n",
    "\n",
    "string = \"Robotica\"\n",
    "\n",
    "print(liczba_integer+zmienno)\n",
    "print(string)"
   ]
  },
  {
   "cell_type": "markdown",
   "id": "5a172372",
   "metadata": {},
   "source": [
    "<b>Przykład 2.</b> Pierwszym typem jest typ integer, czyli liczba całkowita."
   ]
  },
  {
   "cell_type": "code",
   "execution_count": 2,
   "id": "b11732d5",
   "metadata": {
    "scrolled": true
   },
   "outputs": [
    {
     "name": "stdout",
     "output_type": "stream",
     "text": [
      "7\n"
     ]
    }
   ],
   "source": [
    "liczba_integer = 7\n",
    "\n",
    "print(liczba_integer)"
   ]
  },
  {
   "cell_type": "markdown",
   "id": "58639a29",
   "metadata": {},
   "source": [
    "<b>Przykład 3.</b> Czasami w zadaniach potrzeba przekonwertować rodzaj zmiennych. Dobrym przykłądem jest liczenie średniej z wielu liczb, czasami otrzymamy bardzo długą liczbę zmiennoprzecinkową. Możemy ją skrócić konwertując ją na liczb całkowitą, jak w tym przykładzie."
   ]
  },
  {
   "cell_type": "code",
   "execution_count": 4,
   "id": "464f70c6",
   "metadata": {},
   "outputs": [
    {
     "name": "stdout",
     "output_type": "stream",
     "text": [
      "3.99638\n",
      "3\n"
     ]
    }
   ],
   "source": [
    "a = 3.4566\n",
    "b = 4.7123\n",
    "c = 2.345\n",
    "d = 3.123\n",
    "e = 6.345\n",
    "\n",
    "srednia = ((a+b+c+d+e)/5)\n",
    "\n",
    "print(srednia)\n",
    "print(int(srednia))"
   ]
  },
  {
   "cell_type": "markdown",
   "id": "3143e7b8",
   "metadata": {},
   "source": [
    "<b>Przykład 4.</b> W celu obliczenia ilorazu, musimy przekonwertować liczbę całkowitą na zmiennoprzecinkową."
   ]
  },
  {
   "cell_type": "code",
   "execution_count": 5,
   "id": "15e60129",
   "metadata": {},
   "outputs": [
    {
     "name": "stdout",
     "output_type": "stream",
     "text": [
      "5.666666666666667\n"
     ]
    }
   ],
   "source": [
    "a = 17\n",
    "b = 3\n",
    "\n",
    "print(float(a)/float(b))"
   ]
  },
  {
   "cell_type": "markdown",
   "id": "f7e825d3",
   "metadata": {},
   "source": [
    "<b>Zadanie 1.</b> Mając dwie liczby na wejściu, wypisz ich iloraz tak, aby zachować wartość po przecinku."
   ]
  },
  {
   "cell_type": "code",
   "execution_count": null,
   "id": "2f48a565",
   "metadata": {
    "scrolled": true
   },
   "outputs": [],
   "source": []
  },
  {
   "cell_type": "markdown",
   "id": "f9c1aedd",
   "metadata": {},
   "source": [
    "<b>Zadanie 2.</b> Mając na wejściu dwie liczby, wykonaj sumę, a następnie wypisz ją jako liczbę całkowitą"
   ]
  },
  {
   "cell_type": "code",
   "execution_count": null,
   "id": "903b2078",
   "metadata": {},
   "outputs": [],
   "source": []
  },
  {
   "cell_type": "markdown",
   "id": "0440e2ff",
   "metadata": {},
   "source": [
    "<b>Zadanie 3.</b> Na wejściu podano długość podstawy oraz wysokość trójkąta. Oblicz i wypisz jego pole pamiętając o zachowaniu liczby zmiennoprzecinkowej float."
   ]
  },
  {
   "cell_type": "code",
   "execution_count": 6,
   "id": "e5494d7a",
   "metadata": {},
   "outputs": [],
   "source": [
    "a = 4\n",
    "h = 5"
   ]
  },
  {
   "cell_type": "markdown",
   "id": "f5f67b08",
   "metadata": {},
   "source": [
    "<b>Przykład 5.</b> Kolejnym przykładem typu danych jest bool. Przechowuje on tylko dwie wartości: True i False. Tworzymy go przez przypisanie mu jednej z dwóch wartości, bądź użycie funkcji bool - wtedy automatycznie przyjmuje wartość False."
   ]
  },
  {
   "cell_type": "code",
   "execution_count": 7,
   "id": "4cc88586",
   "metadata": {},
   "outputs": [
    {
     "name": "stdout",
     "output_type": "stream",
     "text": [
      "True\n",
      "False\n",
      "False\n"
     ]
    }
   ],
   "source": [
    "x = True\n",
    "print(x)\n",
    "\n",
    "y = False\n",
    "print(y)\n",
    "\n",
    "z = bool()\n",
    "print(z)"
   ]
  },
  {
   "cell_type": "markdown",
   "id": "e1a15447",
   "metadata": {},
   "source": [
    "<b>Przykład 6.</b> Wartość zmiennej typu bool może być także zdefiniowane przez warunek logiczny. Np. 5 > 2 - zmienna przyjmuje wartość True."
   ]
  },
  {
   "cell_type": "code",
   "execution_count": 8,
   "id": "2ca49027",
   "metadata": {},
   "outputs": [
    {
     "name": "stdout",
     "output_type": "stream",
     "text": [
      "True\n",
      "False\n"
     ]
    }
   ],
   "source": [
    "x = 5 > 2\n",
    "print(x)\n",
    "\n",
    "y = 10 - 1 == 5\n",
    "print(y)"
   ]
  },
  {
   "cell_type": "markdown",
   "id": "69a9f068",
   "metadata": {},
   "source": [
    "<b>Przykład 7.</b> Ostatnim typem danych jest string, czyli łańcuch znaków. Jest to zbiór pojedynczych liter, liczb bądź znaków specjalnych. Możemy komentować nasz kod znakiem #, dzięki temu dana linijka kodu się nie wykona, a my możemy zapisać potrzebne dla nas  informacje lub uwagi."
   ]
  },
  {
   "cell_type": "code",
   "execution_count": 10,
   "id": "a7dce09f",
   "metadata": {},
   "outputs": [
    {
     "name": "stdout",
     "output_type": "stream",
     "text": [
      "Academia Robotica\n"
     ]
    }
   ],
   "source": [
    "#komentarz ta instrukcja nie wykona się\n",
    "\n",
    "wyraz_1 = \"Academia\"\n",
    "wyraz_2 = \"Robotica\"\n",
    "\n",
    "wyraz_3 = wyraz_1 + \" \" + wyraz_2\n",
    "\n",
    "print(wyraz_3)"
   ]
  },
  {
   "cell_type": "markdown",
   "id": "c38b2aef",
   "metadata": {},
   "source": [
    "<b>Przykład 6.</b> Złącz podane na wejściu litery w napis i wypisz go."
   ]
  },
  {
   "cell_type": "code",
   "execution_count": 11,
   "id": "a05f565c",
   "metadata": {},
   "outputs": [],
   "source": [
    "litera_1 = a\n",
    "litera_2 = b\n",
    "litera_3 = c"
   ]
  },
  {
   "cell_type": "markdown",
   "id": "7ea2bd5e",
   "metadata": {},
   "source": [
    "<b>Zadanie 4.</b> Złącz dane liczby wejściowe tak, aby otrzymać liczbę czterocyfrową i wypisz ją. "
   ]
  },
  {
   "cell_type": "code",
   "execution_count": 14,
   "id": "e30d1ef2",
   "metadata": {},
   "outputs": [],
   "source": [
    "a = 40\n",
    "b = 55"
   ]
  },
  {
   "cell_type": "markdown",
   "id": "41855a14",
   "metadata": {},
   "source": [
    "<b>Zadanie 5.</b> Złącz podane zmienne oraz wypisz je jako pełne zdanie. Nie zapomnij dodać spacji (\" \") pomiędzy zmiennymi. "
   ]
  },
  {
   "cell_type": "code",
   "execution_count": 15,
   "id": "9a7d1480",
   "metadata": {},
   "outputs": [],
   "source": [
    "wyraz_1 = \"Adam ma\"\n",
    "wiek = 12\n",
    "wyraz_2 = \"lat\""
   ]
  },
  {
   "cell_type": "markdown",
   "id": "d8ecfbf6",
   "metadata": {},
   "source": [
    "<b>Przykład 8.</b> Dzięki funkcji len() możemy w łatwy sposób poznać długość dango ciągu znaków. W przykładzie dzięki tej funkcji możemy sprawdzić z ilu znaków składa się zmienną o wartości Robotica."
   ]
  },
  {
   "cell_type": "code",
   "execution_count": 16,
   "id": "679a175a",
   "metadata": {},
   "outputs": [
    {
     "name": "stdout",
     "output_type": "stream",
     "text": [
      "8\n"
     ]
    }
   ],
   "source": [
    "wyraz = \"Robotica\"\n",
    "dlugosc = len(wyraz)\n",
    "\n",
    "print(dlugosc)"
   ]
  },
  {
   "cell_type": "markdown",
   "id": "1b9adabd",
   "metadata": {},
   "source": [
    "<b>Zadanie 6.</b> Wypisz Długość wyrazu podanego przez użytkownika."
   ]
  },
  {
   "cell_type": "code",
   "execution_count": null,
   "id": "6c4d765a",
   "metadata": {},
   "outputs": [],
   "source": [
    "napis = input(\"Podaj wyraz\")"
   ]
  },
  {
   "cell_type": "markdown",
   "id": "0fcf2f6f",
   "metadata": {},
   "source": [
    "<b>Przykład 9.</b> Aby zaokrąglić daną liczbę możemy użyć funkcji round(). Domyślnie liczba zaokrąglana jest do jednostek, lecz możemy to zmienić podając jako drugi argument liczbę cyfr po przecinku po zaokrągleniu."
   ]
  },
  {
   "cell_type": "code",
   "execution_count": 19,
   "id": "4e75cc9f",
   "metadata": {},
   "outputs": [
    {
     "name": "stdout",
     "output_type": "stream",
     "text": [
      "25\n",
      "56.99\n"
     ]
    }
   ],
   "source": [
    "x = 25.345\n",
    "print(round(x))\n",
    "\n",
    "y = 56.987\n",
    "print(round(y, 2))"
   ]
  },
  {
   "cell_type": "markdown",
   "id": "c4e6fd0d",
   "metadata": {},
   "source": [
    "<b>Zadanie 9.</b> Zaokrąglij podaną liczbę do 3 miejsc po przecinku"
   ]
  },
  {
   "cell_type": "code",
   "execution_count": 20,
   "id": "98f74bbf",
   "metadata": {},
   "outputs": [],
   "source": [
    "x = 678.346785"
   ]
  },
  {
   "cell_type": "markdown",
   "id": "b605174e",
   "metadata": {},
   "source": [
    "<b>Zadanie 10.</b> Na wejściu zostały podane wyrazy, dodaj je do listy za pomocą metody append, następnie dodaj te wyrazy, które mają podaną pozycję, gdzie powinny się znajdować. Wykorzystaj do tego metodę insert. Wypisz listę po dodaniu wszystkich elementów. Wyrazy zostały umieszczone w pliku zad_10.txt."
   ]
  },
  {
   "cell_type": "code",
   "execution_count": null,
   "id": "27421cd7",
   "metadata": {},
   "outputs": [],
   "source": []
  },
  {
   "cell_type": "markdown",
   "id": "20f1ef85",
   "metadata": {},
   "source": [
    "<b>Przykład 9.</b> Funkcja <b>enumerate</b> przyjmuje jako argument listę i zwraca listę krotek zawierających połączone w pary indeksy oraz elementy z listy. Funkcja może przyjąć jako argument listę."
   ]
  },
  {
   "cell_type": "code",
   "execution_count": 64,
   "id": "477f6463",
   "metadata": {},
   "outputs": [
    {
     "name": "stdout",
     "output_type": "stream",
     "text": [
      "1 poniedizałek\n",
      "2 wtorek\n",
      "3 środa\n",
      "4 czwartek\n",
      "5 piątek\n",
      "6 sobota\n",
      "7 niedziela\n"
     ]
    }
   ],
   "source": [
    "dniTygodnia = [\"poniedizałek\", \"wtorek\", \"środa\", \"czwartek\", \"piątek\", \"sobota\", \"niedziela\"]\n",
    "\n",
    "for i, day in enumerate(dniTygodnia):\n",
    "    print(str(i+1) + \" \" + day)"
   ]
  },
  {
   "cell_type": "markdown",
   "id": "ba204e6d",
   "metadata": {},
   "source": [
    "<b>Zadanie 11.</b> Dodaj podane wyrazy do listy, a następnie odnajdź indeks ostatniego wystąpnienia najkrótszego i najdłuższego wyrazu. Następnie wykorzystaj funkcję del, aby usunąć elementy pomiędzy najkrótszym i najdłuższym wyrazem (włącznie z nimi). Wypisz po kolei elementy finalnej listy. Wyrazy zostały umieszczone w pliku zad_11.txt."
   ]
  },
  {
   "cell_type": "code",
   "execution_count": null,
   "id": "a52d9446",
   "metadata": {},
   "outputs": [],
   "source": []
  }
 ],
 "metadata": {
  "kernelspec": {
   "display_name": "Python 3 (ipykernel)",
   "language": "python",
   "name": "python3"
  },
  "language_info": {
   "codemirror_mode": {
    "name": "ipython",
    "version": 3
   },
   "file_extension": ".py",
   "mimetype": "text/x-python",
   "name": "python",
   "nbconvert_exporter": "python",
   "pygments_lexer": "ipython3",
   "version": "3.9.13"
  }
 },
 "nbformat": 4,
 "nbformat_minor": 5
}
