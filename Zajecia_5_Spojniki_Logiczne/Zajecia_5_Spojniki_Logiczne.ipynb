{
 "cells": [
  {
   "cell_type": "markdown",
   "id": "fdce8634",
   "metadata": {},
   "source": [
    "# Spójniki Logiczne"
   ]
  },
  {
   "cell_type": "markdown",
   "id": "6a198da8",
   "metadata": {},
   "source": [
    "<b>Przykład 1.</b> Poznajmy spójniki i operatory logiczne. W tym przypadku sprawdzimy na zasadzie zero jedynkowej (prawda lub fałsz) czy dana liczba spełnia kolejne warunki."
   ]
  },
  {
   "cell_type": "code",
   "execution_count": 4,
   "id": "43bb6c3a",
   "metadata": {},
   "outputs": [
    {
     "name": "stdout",
     "output_type": "stream",
     "text": [
      "Liczba równa się 2\n",
      "Liczba jest różna od 3\n",
      "Liczba równa się 3\n",
      "Liczba jest większa od 2\n",
      "Liczba jest mniejsza od 2\n"
     ]
    }
   ],
   "source": [
    "number = 2\n",
    "\n",
    "if(number == 2):\n",
    "    print(\"Liczba równa się 2\")\n",
    "    \n",
    "if(number != 3):\n",
    "    print(\"Liczba jest różna od 3\")\n",
    "    \n",
    "number = 3\n",
    "\n",
    "if(number == 3):\n",
    "    print(\"Liczba równa się 3\")\n",
    "\n",
    "if(number > 2):\n",
    "    print(\"Liczba jest większa od 2\")\n",
    "    \n",
    "number = 1\n",
    "\n",
    "if(number < 2):\n",
    "    print(\"Liczba jest mniejsza od 2\")\n"
   ]
  },
  {
   "cell_type": "markdown",
   "id": "5a172372",
   "metadata": {},
   "source": [
    "<b>Zadanie 1.</b> Sprawdź, czy dane liczby na wejściu (input()) są sobie równe."
   ]
  },
  {
   "cell_type": "code",
   "execution_count": null,
   "id": "b11732d5",
   "metadata": {
    "scrolled": true
   },
   "outputs": [],
   "source": []
  },
  {
   "cell_type": "markdown",
   "id": "f7e825d3",
   "metadata": {},
   "source": [
    "<b>Zadanie 2.</b> Sprawdź, czy suma dwóch liczb na wejściu jest większa niż 10."
   ]
  },
  {
   "cell_type": "code",
   "execution_count": null,
   "id": "2f48a565",
   "metadata": {
    "scrolled": true
   },
   "outputs": [],
   "source": []
  },
  {
   "cell_type": "markdown",
   "id": "e1a15447",
   "metadata": {},
   "source": [
    "<b>Przykład 2.</b> Operatory logiczne <b>and</b> i <b>or</b> (odpowiednio <b>i</b> oraz <b>lub</b>). Dane operatory wykonują się tylko w następujących przypadkach: <b>or</b> zwróci wartość <b>True</b>, jeśli przynajmniej jeden z warunków jest poprawny, <b>and</b> natomiast zwróci <b>True</b>, jeśli wszystkie warunki są poprawne."
   ]
  },
  {
   "cell_type": "code",
   "execution_count": 9,
   "id": "2ca49027",
   "metadata": {},
   "outputs": [
    {
     "name": "stdout",
     "output_type": "stream",
     "text": [
      "Twoje imie to Adam i masz 20 lat.\n",
      "Twoje imie to Michał lub Adam\n"
     ]
    }
   ],
   "source": [
    "name = \"Adam\"\n",
    "age = 20\n",
    "\n",
    "if (name == \"Adam\" and age == 20):\n",
    "    print(\"Twoje imie to Adam i masz 20 lat.\")\n",
    "    \n",
    "if(name == \"Michał\" or name == \"Adam\"):\n",
    "    print(\"Twoje imie to Michał lub Adam\")\n",
    "\n"
   ]
  },
  {
   "cell_type": "markdown",
   "id": "69a9f068",
   "metadata": {},
   "source": [
    "<b>Zadanie 3.</b> Sprawdź, czy podana liczba na wejściu (input()) jest mniejsza niż 15, a większa niż 7."
   ]
  },
  {
   "cell_type": "code",
   "execution_count": null,
   "id": "a7dce09f",
   "metadata": {},
   "outputs": [],
   "source": []
  },
  {
   "cell_type": "markdown",
   "id": "c38b2aef",
   "metadata": {},
   "source": [
    "<b>Zadanie 4.</b> Napisz program, który wypisze <b>True</b>, gdy dane na wejściu liczby (input()) będą nieparzyste, w przeciwnym przypadku wypisze <b>False</b>."
   ]
  },
  {
   "cell_type": "code",
   "execution_count": null,
   "id": "a05f565c",
   "metadata": {},
   "outputs": [],
   "source": []
  },
  {
   "cell_type": "markdown",
   "id": "41855a14",
   "metadata": {},
   "source": [
    "<b>Przykład 3.</b> Za pomocą operatora <b>in</b> możemy sprawdzić, czy dany element znajduje się w zbiorze. Jeśli dany zbiór zawiera zadany element to otrzymujemy True, w przeciwnym przypadku False."
   ]
  },
  {
   "cell_type": "code",
   "execution_count": 14,
   "id": "9a7d1480",
   "metadata": {},
   "outputs": [
    {
     "name": "stdout",
     "output_type": "stream",
     "text": [
      "Twoje imie to Michał lub Adam\n"
     ]
    }
   ],
   "source": [
    "name = \"Adam\"\n",
    "\n",
    "if name in [\"Michał\", \"Adam\"]:\n",
    "    print(\"Twoje imie to Michał lub Adam\")"
   ]
  },
  {
   "cell_type": "markdown",
   "id": "d8ecfbf6",
   "metadata": {},
   "source": [
    "<b>Zadanie 5.</b> Napisz program, który sprawdzi, czy w podanym zbiorze składającym się z słów, zawiera się słowo podane przez użytkownika (za pomocą input()). Jeśli zawiera się wypisz True, w przeciwnym przypadku wypisz Fałsz."
   ]
  },
  {
   "cell_type": "code",
   "execution_count": null,
   "id": "679a175a",
   "metadata": {},
   "outputs": [],
   "source": []
  },
  {
   "cell_type": "markdown",
   "id": "1b9adabd",
   "metadata": {},
   "source": [
    "<b>Zadanie 6.</b> Napisz program, który sprawdzi, czy w podanym wyrazie znajduje się litera podana obok nich. Wyrazy oraz litery zapisane są w pliku zad_6.txt"
   ]
  },
  {
   "cell_type": "code",
   "execution_count": null,
   "id": "6c4d765a",
   "metadata": {},
   "outputs": [],
   "source": []
  },
  {
   "cell_type": "markdown",
   "id": "0fcf2f6f",
   "metadata": {},
   "source": [
    "<b>Przykład 4.</b> Wyrażenie <b>not</b> przed wyrażeniem logicznym zmienia jego wartość na przeciwną. "
   ]
  },
  {
   "cell_type": "code",
   "execution_count": 22,
   "id": "4e75cc9f",
   "metadata": {},
   "outputs": [
    {
     "name": "stdout",
     "output_type": "stream",
     "text": [
      "True\n",
      "False\n"
     ]
    }
   ],
   "source": [
    "print(not False)\n",
    "\n",
    "print((not False) == (False))"
   ]
  },
  {
   "cell_type": "markdown",
   "id": "c4e6fd0d",
   "metadata": {},
   "source": [
    "<b>Zadanie 7.</b> Wykorzystując wyrażenie <b>not</b>, sprawdź czy liczby nie są sobie równe. Jeżeli liczby są równe wypisz <b>True</b>, w przeciwnym przypadku wypisz False. Nie wykorzystuj instrukcji warunkowej if. Liczby są zapisane w pliku zad_7.txt"
   ]
  },
  {
   "cell_type": "code",
   "execution_count": null,
   "id": "98f74bbf",
   "metadata": {},
   "outputs": [],
   "source": []
  },
  {
   "cell_type": "markdown",
   "id": "b605174e",
   "metadata": {},
   "source": [
    "<b>Zadanie 8.</b> Sprawdź, czy podane przez użytkownika litera (przez input()), znajduje się w podanych wyrazach w pliku zad_8.txt"
   ]
  },
  {
   "cell_type": "code",
   "execution_count": null,
   "id": "27421cd7",
   "metadata": {},
   "outputs": [],
   "source": []
  },
  {
   "cell_type": "markdown",
   "id": "ba204e6d",
   "metadata": {},
   "source": [
    "<b>Przykład 5.</b> Dzięki spójnikom logicznym jesteśmy w stanie wyznaczyć największą liczbę z podanych na wejściu."
   ]
  },
  {
   "cell_type": "code",
   "execution_count": 28,
   "id": "a52d9446",
   "metadata": {},
   "outputs": [
    {
     "name": "stdout",
     "output_type": "stream",
     "text": [
      "Podaj A: 4\n",
      "Podaj B: 5\n",
      "Podaj C: 6\n",
      "6\n"
     ]
    }
   ],
   "source": [
    "a = int(input(\"Podaj A: \"))\n",
    "b = int(input(\"Podaj B: \"))\n",
    "c = int(input(\"Podaj C: \"))\n",
    "\n",
    "if ((a >= b) and (a >= c)):\n",
    "    print(a)\n",
    "elif((b >= a) and (b >= c)):\n",
    "    print(b)\n",
    "else:\n",
    "    print(c);"
   ]
  },
  {
   "cell_type": "markdown",
   "id": "07053961",
   "metadata": {},
   "source": [
    "<b>Zadanie 9.</b> Napisz program, który wypisze najmniejszą z liczb. Liczby podane są na wejściu (input())."
   ]
  },
  {
   "cell_type": "code",
   "execution_count": null,
   "id": "32816470",
   "metadata": {},
   "outputs": [],
   "source": []
  },
  {
   "cell_type": "markdown",
   "id": "78004785",
   "metadata": {},
   "source": [
    "<b>Zadanie 10.</b> Napisz program, który sprawdzi czy z trzech odcinków, o podanych na wejściu długościach można utworzyć trójkąt. Jeśli tak, wypisz <b>True</b>, w przeciwnym przypadku wypisz <b>False</b>."
   ]
  },
  {
   "cell_type": "code",
   "execution_count": null,
   "id": "53ba301c",
   "metadata": {},
   "outputs": [],
   "source": []
  },
  {
   "cell_type": "markdown",
   "id": "29e5a041",
   "metadata": {},
   "source": [
    "<b>Zadanie 11.</b> Napisz program, który zwróci tylko te, spośród podanych par liczb (pray liczb podane w pliku zad_11.txt), które składają się z dwóch liczb parzystych."
   ]
  },
  {
   "cell_type": "code",
   "execution_count": null,
   "id": "fd06f4fc",
   "metadata": {},
   "outputs": [],
   "source": []
  },
  {
   "cell_type": "markdown",
   "id": "571ef910",
   "metadata": {},
   "source": [
    "<b>Zadanie 12.</b> Sprawdź, czy podane liczby w pliku zad_12.txt są przeciwne względem siebie, jeśli tak wypisz <b>True</b>, w przeciwnym przypadku wypisz <b>False</b>."
   ]
  },
  {
   "cell_type": "code",
   "execution_count": null,
   "id": "01d4ce8a",
   "metadata": {},
   "outputs": [],
   "source": []
  },
  {
   "cell_type": "markdown",
   "id": "7717a050",
   "metadata": {},
   "source": [
    "# Zadania dodatkowe - tworzymy proste gry"
   ]
  },
  {
   "cell_type": "markdown",
   "id": "a819e9ad",
   "metadata": {},
   "source": [
    "<b>Gra w zgadywanie liczb</b>"
   ]
  },
  {
   "cell_type": "code",
   "execution_count": null,
   "id": "b397b687",
   "metadata": {},
   "outputs": [],
   "source": []
  },
  {
   "cell_type": "markdown",
   "id": "2dc37bec",
   "metadata": {},
   "source": [
    "<b>Gra w kamień, papier, nożyce</b>"
   ]
  },
  {
   "cell_type": "code",
   "execution_count": null,
   "id": "b4ac3f7c",
   "metadata": {},
   "outputs": [],
   "source": []
  }
 ],
 "metadata": {
  "kernelspec": {
   "display_name": "Python 3 (ipykernel)",
   "language": "python",
   "name": "python3"
  },
  "language_info": {
   "codemirror_mode": {
    "name": "ipython",
    "version": 3
   },
   "file_extension": ".py",
   "mimetype": "text/x-python",
   "name": "python",
   "nbconvert_exporter": "python",
   "pygments_lexer": "ipython3",
   "version": "3.9.13"
  }
 },
 "nbformat": 4,
 "nbformat_minor": 5
}
