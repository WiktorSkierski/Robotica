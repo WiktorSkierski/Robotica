{
 "cells": [
  {
   "cell_type": "markdown",
   "id": "3e519ced",
   "metadata": {},
   "source": [
    "# Zajęcia 2 - Operacje na plikach tekstowych"
   ]
  },
  {
   "cell_type": "code",
   "execution_count": 1,
   "id": "09dcec8f",
   "metadata": {},
   "outputs": [
    {
     "name": "stdout",
     "output_type": "stream",
     "text": [
      "Witamy w Akademii Robotica.\n",
      "Ala ma kota!\n",
      "Uczymy się programować w języku python.\n"
     ]
    }
   ],
   "source": [
    "file = open(\"z2_e1.txt\", \"r\", encoding=\"utf-8\") #open \"ścieżka do pliku\", \"tryb otwarcia pliku\", \"strona kodowa pliku\"\n",
    "\n",
    "print(file.read())\n",
    "file.close()"
   ]
  },
  {
   "cell_type": "markdown",
   "id": "4fc29530",
   "metadata": {},
   "source": [
    "Tryby otwarcia pliku:\n",
    "- \"r\" - read (odczyt) domyślna wartość, otwiera plik do odczytu, jeśli nie istnieje wyrzuca błąd.\n",
    "- \"a\" - append (dołącz) - otwiera plik w trybie dodawania, tworzy plik jeśli ten nie istnieje.\n",
    "- \"w\" - write (zapisz) - otwiera plik w trybie zapisu, tworzy plik jeśli ten nie istnieje.\n",
    "- \"x\" - create(utwórz) - tworzy plik o podanej nazwie, jeśli ten istnieje, zwraca błąd."
   ]
  },
  {
   "cell_type": "markdown",
   "id": "15263fa8",
   "metadata": {},
   "source": [
    "# Odczyt określonej ilości znaków"
   ]
  },
  {
   "cell_type": "code",
   "execution_count": 2,
   "id": "dfdb752b",
   "metadata": {},
   "outputs": [
    {
     "name": "stdout",
     "output_type": "stream",
     "text": [
      "Witam\n"
     ]
    }
   ],
   "source": [
    "file = open(\"z2_e1.txt\", \"r\", encoding=\"utf-8\")\n",
    "\n",
    "print(file.read(5))#wypisuje pierwsze pięć znaków z pliku\n",
    "file.close()"
   ]
  },
  {
   "cell_type": "markdown",
   "id": "a2e75e6d",
   "metadata": {},
   "source": [
    "# Odczyt kolejnej lini z pliku (jednej)"
   ]
  },
  {
   "cell_type": "code",
   "execution_count": 3,
   "id": "28d52141",
   "metadata": {},
   "outputs": [
    {
     "name": "stdout",
     "output_type": "stream",
     "text": [
      "Witamy w Akademii Robotica.\n",
      "\n",
      "Ala ma kota!\n",
      "\n"
     ]
    }
   ],
   "source": [
    "file = open(\"z2_e1.txt\", \"r\", encoding=\"utf-8\")\n",
    "\n",
    "print(file.readline())\n",
    "print(file.readline())\n",
    "file.close()"
   ]
  },
  {
   "cell_type": "markdown",
   "id": "40dd66f8",
   "metadata": {},
   "source": [
    "# Odczytywanie lini w pętli"
   ]
  },
  {
   "cell_type": "code",
   "execution_count": 4,
   "id": "9fc4dedd",
   "metadata": {},
   "outputs": [
    {
     "name": "stdout",
     "output_type": "stream",
     "text": [
      "Witamy w Akademii Robotica.\n",
      "\n",
      "Ala ma kota!\n",
      "\n",
      "Uczymy się programować w języku python.\n"
     ]
    }
   ],
   "source": [
    "file = open(\"z2_e1.txt\", \"r\", encoding=\"utf-8\")\n",
    "licznik = 0\n",
    "for line in file:\n",
    "    print(line)\n",
    "file.close()"
   ]
  },
  {
   "cell_type": "markdown",
   "id": "ac95c028",
   "metadata": {},
   "source": [
    "# Dodawanie kolejnej linii do pliku"
   ]
  },
  {
   "cell_type": "code",
   "execution_count": 5,
   "id": "d3fa1e02",
   "metadata": {},
   "outputs": [
    {
     "name": "stdout",
     "output_type": "stream",
     "text": [
      "Witamy w Akademii Robotica.\n",
      "Ala ma kota!\n",
      "Uczymy się programować w języku python.\n",
      "--------------------------------------\n",
      "Witamy w Akademii Robotica.\n",
      "Ala ma kota!\n",
      "Uczymy się programować w języku python.Dodaję kolejną linię do mojego pliku tekstowego.\n"
     ]
    }
   ],
   "source": [
    "file = open(\"z2_e1.txt\", \"r\", encoding=\"utf-8\")\n",
    "print(file.read())\n",
    "file.close()\n",
    "\n",
    "print(\"--------------------------------------\")\n",
    "\n",
    "file = open(\"z2_e1.txt\", \"a\", encoding=\"utf-8\")\n",
    "file.write(\"Dodaję kolejną linię do mojego pliku tekstowego.\")\n",
    "file.close()\n",
    "\n",
    "file = open(\"z2_e1.txt\", \"r\", encoding=\"utf-8\")\n",
    "print(file.read())\n",
    "file.close()"
   ]
  },
  {
   "cell_type": "markdown",
   "id": "42560623",
   "metadata": {},
   "source": [
    "# Aby dodać enter przed dodaniem nowej linii należy dopisać znak końca linii do naszego ciągu"
   ]
  },
  {
   "cell_type": "code",
   "execution_count": 6,
   "id": "5b227b3f",
   "metadata": {},
   "outputs": [
    {
     "name": "stdout",
     "output_type": "stream",
     "text": [
      "Witamy w Akademii Robotica.\n",
      "Ala ma kota!\n",
      "Uczymy się programować w języku python.Dodaję kolejną linię do mojego pliku tekstowego.\n",
      "Dodaję linijkę, która najpierw doda spację w pliku\n"
     ]
    }
   ],
   "source": [
    "file = open(\"z2_e1.txt\", \"a\", encoding=\"utf-8\")\n",
    "file.write(\"\\nDodaję linijkę, która najpierw doda spację w pliku\")\n",
    "file.close()\n",
    "\n",
    "file = open(\"z2_e1.txt\", \"r\", encoding=\"utf-8\")\n",
    "print(file.read())\n",
    "file.close()"
   ]
  },
  {
   "cell_type": "markdown",
   "id": "c6ad4002",
   "metadata": {},
   "source": [
    "# Tworzenie nowego pliku"
   ]
  },
  {
   "cell_type": "code",
   "execution_count": 9,
   "id": "05b4b7d2",
   "metadata": {},
   "outputs": [
    {
     "name": "stdout",
     "output_type": "stream",
     "text": [
      "Hello world!\n"
     ]
    }
   ],
   "source": [
    "file = open(\"nowy_plik.txt\", \"x\")\n",
    "file.write(\"Hello world!\")\n",
    "file.close()\n",
    "\n",
    "file = open(\"nowy_plik.txt\", \"r\", encoding=\"utf-8\")\n",
    "print(file.read())\n",
    "file.close()"
   ]
  },
  {
   "cell_type": "markdown",
   "id": "a1b05634",
   "metadata": {},
   "source": [
    "# Dopisywanie do pliku"
   ]
  },
  {
   "cell_type": "code",
   "execution_count": 10,
   "id": "7b8d5e3e",
   "metadata": {},
   "outputs": [
    {
     "name": "stdout",
     "output_type": "stream",
     "text": [
      "Nowa treść naszego pliku!\n"
     ]
    }
   ],
   "source": [
    "file = open(\"nowy_plik.txt\", \"w\", encoding=\"utf-8\")\n",
    "file.write(\"Nowa treść naszego pliku!\")\n",
    "file.close()\n",
    "\n",
    "file = open(\"nowy_plik.txt\", \"r\", encoding=\"utf-8\")\n",
    "print(file.read())\n",
    "file.close()"
   ]
  },
  {
   "cell_type": "markdown",
   "id": "b65bab6d",
   "metadata": {},
   "source": [
    "# Operacje matematyczne"
   ]
  },
  {
   "cell_type": "code",
   "execution_count": null,
   "id": "595da286",
   "metadata": {},
   "outputs": [],
   "source": [
    "file = open(\"z2_e2.txt\", \"r\", encoding=\"utf-8\")\n",
    "suma = 0\n",
    "\n",
    "for number in file:\n",
    "    liczba = int(number)\n",
    "    suma = suma+liczba\n",
    "print(suma)"
   ]
  },
  {
   "cell_type": "markdown",
   "id": "88b38e1e",
   "metadata": {},
   "source": [
    "# Dla chętnych"
   ]
  },
  {
   "cell_type": "code",
   "execution_count": null,
   "id": "d9e5ab28",
   "metadata": {},
   "outputs": [],
   "source": [
    "file = open(\"z2_e3.txt\", \"r\", encoding=\"utf-8\")\n",
    "suma = 0\n",
    "\n",
    "for linia in file:\n",
    "    try:\n",
    "        liczba = int(linia)\n",
    "        suma = suma+liczba\n",
    "    except ValueError:#nazwa błędu który ma być przechwycony\n",
    "        print(\"Błąd wartości!\")\n",
    "print(suma)"
   ]
  },
  {
   "cell_type": "markdown",
   "id": "7deb5e16",
   "metadata": {},
   "source": [
    "# Zadania (Spróbuj nie zaglądać do wcześniejszych podpowiedzi) :-)"
   ]
  },
  {
   "cell_type": "markdown",
   "id": "4ebee974",
   "metadata": {},
   "source": [
    "## Zadanie 1 \n",
    "## Odczytaj całą zawartość pliku zad_1.txt. Wypisz zawartość pliku do konsoli."
   ]
  },
  {
   "cell_type": "code",
   "execution_count": null,
   "id": "b2061072",
   "metadata": {},
   "outputs": [],
   "source": []
  },
  {
   "cell_type": "markdown",
   "id": "a48a1045",
   "metadata": {},
   "source": [
    "## Zadanie 2\n",
    "## Odczytaj pierwszą linię pliku zad_1.txt. Wypisz tą linię do konsoli."
   ]
  },
  {
   "cell_type": "code",
   "execution_count": null,
   "id": "bb84aa81",
   "metadata": {},
   "outputs": [],
   "source": []
  },
  {
   "cell_type": "markdown",
   "id": "899e036e",
   "metadata": {},
   "source": [
    "## Zadanie 3\n",
    "## Za pomocą pętli for, która operuje po liniach pliku wypisz zawartość pliku zad_1.txt do konsoli."
   ]
  },
  {
   "cell_type": "code",
   "execution_count": null,
   "id": "d2d98b2c",
   "metadata": {},
   "outputs": [],
   "source": []
  },
  {
   "cell_type": "markdown",
   "id": "f45a3efc",
   "metadata": {},
   "source": [
    "## Zadanie 4\n",
    "## Napisz program, który sprawdzi ile wierszy znajduje się w pliku zad_2.txt."
   ]
  },
  {
   "cell_type": "code",
   "execution_count": null,
   "id": "24a90f9e",
   "metadata": {},
   "outputs": [],
   "source": []
  },
  {
   "cell_type": "markdown",
   "id": "a5d424f6",
   "metadata": {},
   "source": [
    "## Zadanie 5\n",
    "## Napisz program, który wypisze ostatnią linię pliku zad_2.txt"
   ]
  },
  {
   "cell_type": "code",
   "execution_count": null,
   "id": "20d40151",
   "metadata": {},
   "outputs": [],
   "source": []
  },
  {
   "cell_type": "markdown",
   "id": "42f4c371",
   "metadata": {},
   "source": [
    "## Zadanie 6\n",
    "## Napisz program, który wyświetli zawartość piątej linii pliku zad_2.txt"
   ]
  },
  {
   "cell_type": "code",
   "execution_count": null,
   "id": "1a784009",
   "metadata": {},
   "outputs": [],
   "source": []
  },
  {
   "cell_type": "markdown",
   "id": "792bcdda",
   "metadata": {},
   "source": [
    "## Zadanie 7\n",
    "## Napisz program, który wypisze z pliku zad_2.txt linię od 3 do końca"
   ]
  },
  {
   "cell_type": "code",
   "execution_count": null,
   "id": "1c69760a",
   "metadata": {},
   "outputs": [],
   "source": []
  },
  {
   "cell_type": "markdown",
   "id": "f783d73c",
   "metadata": {},
   "source": [
    "## Zadanie 8\n",
    "## Napisz program, który wypisze z pliku zad_2.txt linię od 2 do 4"
   ]
  },
  {
   "cell_type": "code",
   "execution_count": null,
   "id": "025edd46",
   "metadata": {},
   "outputs": [],
   "source": []
  },
  {
   "cell_type": "markdown",
   "id": "d48a1ffe",
   "metadata": {},
   "source": [
    "## Zadanie 9\n",
    "## Napisz program, który obliczy sumę liczb z pliku zad_3.txt. Każda liczba jest wpisana w osobnym wierszu. W pliku znajdują się tylko liczby, plik nie zawiera innych ciągów znaków."
   ]
  },
  {
   "cell_type": "code",
   "execution_count": null,
   "id": "0ff262bb",
   "metadata": {},
   "outputs": [],
   "source": []
  },
  {
   "cell_type": "markdown",
   "id": "892f81ba",
   "metadata": {},
   "source": [
    "## Zadanie 10\n",
    "## Napisz program, który wypisze z pliku zad_4.txt wyrazy oraz długość danego wyrazu. Każdy wyraz w pliku jest zapisany w osobnej linii.\n",
    "Przykład: \n",
    "- Płock 5\n",
    "- Warszawa 8"
   ]
  },
  {
   "cell_type": "code",
   "execution_count": null,
   "id": "f700f17d",
   "metadata": {},
   "outputs": [],
   "source": []
  },
  {
   "cell_type": "markdown",
   "id": "8345bf74",
   "metadata": {},
   "source": [
    "## Zadanie 11\n",
    "## Napisz program, który wypisze z pliku zad_4.txt wypisze najdłuższy wyraz."
   ]
  },
  {
   "cell_type": "code",
   "execution_count": null,
   "id": "babcf062",
   "metadata": {},
   "outputs": [],
   "source": []
  },
  {
   "cell_type": "markdown",
   "id": "204bd22e",
   "metadata": {},
   "source": [
    "## Zadanie 12\n",
    "## Napisz program, który przekopiuje zawartość pliku zad_4.txt do pliku zad_4_nowy.txt. Zakładamy, że plik zad_4_nowy.txt. nie istnieje."
   ]
  },
  {
   "cell_type": "code",
   "execution_count": null,
   "id": "e6300550",
   "metadata": {},
   "outputs": [],
   "source": []
  },
  {
   "cell_type": "markdown",
   "id": "f2f0fa5c",
   "metadata": {},
   "source": [
    "## Zadanie 13\n",
    "## Napisz program, który będzie zapisywał wpisane ciągi znaków przez użytkownika do pliku zad_6.txt"
   ]
  },
  {
   "cell_type": "code",
   "execution_count": null,
   "id": "1e4db1f6",
   "metadata": {},
   "outputs": [],
   "source": []
  }
 ],
 "metadata": {
  "kernelspec": {
   "display_name": "Python 3 (ipykernel)",
   "language": "python",
   "name": "python3"
  },
  "language_info": {
   "codemirror_mode": {
    "name": "ipython",
    "version": 3
   },
   "file_extension": ".py",
   "mimetype": "text/x-python",
   "name": "python",
   "nbconvert_exporter": "python",
   "pygments_lexer": "ipython3",
   "version": "3.9.13"
  }
 },
 "nbformat": 4,
 "nbformat_minor": 5
}
