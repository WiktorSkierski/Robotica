{
 "cells": [
  {
   "cell_type": "markdown",
   "id": "fdce8634",
   "metadata": {},
   "source": [
    "# Obiektowość"
   ]
  },
  {
   "cell_type": "markdown",
   "id": "6a198da8",
   "metadata": {},
   "source": [
    "<b>Przykład 1.</b> Poznajmy definicją klasy i obiektów. Klasa to schemat, według których tworzone są obiekty. Natomiast obiekty wykorzystują zmienne i metody zadeklarowane w klasie. Aby utworzyć klasę wykorzystujemy słowo kluczowe class, następnie obiekt tworzymy poprzez przypisanie do zmiennej schemat - klasę. Na  podstawie jednej klasy możemy utworzyć niemal nieskończoną ilość obiektów. Przykładowa klasa zawiera pole statyczne x, do którego mamy dostęp poprzez utworzony obiekt."
   ]
  },
  {
   "cell_type": "code",
   "execution_count": 1,
   "id": "43bb6c3a",
   "metadata": {},
   "outputs": [
    {
     "name": "stdout",
     "output_type": "stream",
     "text": [
      "Test\n"
     ]
    }
   ],
   "source": [
    "class nazwaKlasy:\n",
    "    x = \"Test\"\n",
    "    \n",
    "obiekt = nazwaKlasy()\n",
    "\n",
    "print(obiekt.x)"
   ]
  },
  {
   "cell_type": "markdown",
   "id": "5a172372",
   "metadata": {},
   "source": [
    "<b>Przykład 2.</b> W celu utworzenia obiektu z określoną wartością zmiennych wykorzystujemy konstruktor klasy - metodę __init__. Pierwszy argument każdej metody klasy musi określać obiekt, do którego się odnosimy. Najczęściej wykorzystujemy do tego zmienną o nazwie <b>self</b>."
   ]
  },
  {
   "cell_type": "code",
   "execution_count": 10,
   "id": "b11732d5",
   "metadata": {
    "scrolled": true
   },
   "outputs": [
    {
     "name": "stdout",
     "output_type": "stream",
     "text": [
      "John\n",
      "32\n"
     ]
    }
   ],
   "source": [
    "class Osoba:\n",
    "    def __init__(self, imie, wiek): #w nawiasie są argumenty, które są przekazywane do konstruktora\n",
    "        self.imie = imie #do właściwości imie przypisane jest imie, które przekazujemy do konstruktora\n",
    "        self.wiek = wiek\n",
    "        \n",
    "John = Osoba(\"John\", 32)\n",
    "\n",
    "print(John.imie)\n",
    "print(John.wiek)"
   ]
  },
  {
   "cell_type": "markdown",
   "id": "58639a29",
   "metadata": {},
   "source": [
    "<b>Przykład 3.</b> Stwórzmy klasę zawierającą konstruktor, który przyjmuje dane za pomocą konstruktora. Dodajmy metodę PrzedstawSie, dzięki której obiekt będzie mógł się przedstawić, wypisując swoje dane."
   ]
  },
  {
   "cell_type": "code",
   "execution_count": 20,
   "id": "464f70c6",
   "metadata": {},
   "outputs": [
    {
     "name": "stdout",
     "output_type": "stream",
     "text": [
      "Moje imie to John i mam 32 lat.\n"
     ]
    }
   ],
   "source": [
    "class Osoba:\n",
    "    def __init__(self, imie, wiek):\n",
    "        self.imie = imie\n",
    "        self.wiek = wiek\n",
    "        \n",
    "    def przedstawSie(self):\n",
    "        print(\"Moje imie to \" + self.imie + \" i mam \" + str(self.wiek) + \" lat.\")\n",
    "        \n",
    "John = Osoba(\"John\", 32)\n",
    "\n",
    "John.przedstawSie()"
   ]
  },
  {
   "cell_type": "markdown",
   "id": "f7e825d3",
   "metadata": {},
   "source": [
    "<b>Zadanie 1.</b> Stwórz klasę produkt, który będzie przyjmował nazwę produktu, ilość na magazynie oraz cenę w złotych. Stwórz w klasie metodę wypiszProdukt, która będzie wypisywała wszystkie informacje o produkcie. przykład (Komputer 10 sztuk 4000zł)"
   ]
  },
  {
   "cell_type": "code",
   "execution_count": null,
   "id": "2f48a565",
   "metadata": {
    "scrolled": true
   },
   "outputs": [],
   "source": []
  },
  {
   "cell_type": "markdown",
   "id": "f9c1aedd",
   "metadata": {},
   "source": [
    "<b>Przykład 4</b> Możemy dodawać nasze nowo powstałe obiekty do listy. Stwórzmy trzy obiekty i dodajmy je do listy"
   ]
  },
  {
   "cell_type": "code",
   "execution_count": 32,
   "id": "903b2078",
   "metadata": {},
   "outputs": [
    {
     "name": "stdout",
     "output_type": "stream",
     "text": [
      "Moje imie to Agata i mam 23 lat.\n",
      "Moje imie to Sebastian i mam 16 lat.\n",
      "Moje imie to Kornelia i mam 25 lat.\n"
     ]
    }
   ],
   "source": [
    "class Osoba:\n",
    "    def __init__(self, imie, wiek):\n",
    "        self.imie = imie\n",
    "        self.wiek = wiek\n",
    "        \n",
    "    def przedstawSie(self):\n",
    "        print(\"Moje imie to \" + self.imie + \" i mam \" + str(self.wiek) + \" lat.\")\n",
    "        \n",
    "listaOsob = []\n",
    "\n",
    "o1 = Osoba(\"Agata\", 23)\n",
    "o2 = Osoba(\"Sebastian\", 16)\n",
    "o3 = Osoba(\"Kornelia\", 25)\n",
    "\n",
    "\n",
    "listaOsob.append(o1)\n",
    "listaOsob.append(o2)\n",
    "listaOsob.append(o3)\n",
    "\n",
    "for osoba in listaOsob:\n",
    "    osoba.przedstawSie()"
   ]
  },
  {
   "cell_type": "markdown",
   "id": "0440e2ff",
   "metadata": {},
   "source": [
    "<b>Zadanie 2.</b> W pliku zad_2.txt znajdują się kolejne informacje o produktach (nazwa produktu, ilość i cena). Stwórz listę wszystkich produktów oraz wypisz informację o każdym produkcie. Aby wziąć kolejny element z listy z pliku wykonujemy metodę split i numer elementu w linii przykład: linia.split()[0]"
   ]
  },
  {
   "cell_type": "code",
   "execution_count": null,
   "id": "e5494d7a",
   "metadata": {},
   "outputs": [],
   "source": []
  },
  {
   "cell_type": "markdown",
   "id": "f5f67b08",
   "metadata": {},
   "source": [
    "<b>Zadanie 3.</b> Przekopiuj powyższy program. Dopisz do klasy metodę obliczającą całkowity koszt każdego produktu. Wypisz w podanej formie (Apple 2584zł). Pamiętaj o funkcji int przed dodaniem wiersza do konstruktora."
   ]
  },
  {
   "cell_type": "code",
   "execution_count": null,
   "id": "4cc88586",
   "metadata": {},
   "outputs": [],
   "source": []
  },
  {
   "cell_type": "markdown",
   "id": "e1a15447",
   "metadata": {},
   "source": [
    "<b>Zadanie 4.</b> Stwórz klasę Osoba, która będzie zawierać pola imię i miasto. Stwórz obiekty tej klasy o podanych imionahc i nazwiskach i dodaj do listy. Wypisz imiona osób, które mieszkają w Chicago. Plik: zad_4.txt"
   ]
  },
  {
   "cell_type": "code",
   "execution_count": null,
   "id": "2ca49027",
   "metadata": {},
   "outputs": [],
   "source": []
  },
  {
   "cell_type": "code",
   "execution_count": null,
   "id": "a52d9446",
   "metadata": {},
   "outputs": [],
   "source": []
  }
 ],
 "metadata": {
  "kernelspec": {
   "display_name": "Python 3 (ipykernel)",
   "language": "python",
   "name": "python3"
  },
  "language_info": {
   "codemirror_mode": {
    "name": "ipython",
    "version": 3
   },
   "file_extension": ".py",
   "mimetype": "text/x-python",
   "name": "python",
   "nbconvert_exporter": "python",
   "pygments_lexer": "ipython3",
   "version": "3.9.13"
  }
 },
 "nbformat": 4,
 "nbformat_minor": 5
}
