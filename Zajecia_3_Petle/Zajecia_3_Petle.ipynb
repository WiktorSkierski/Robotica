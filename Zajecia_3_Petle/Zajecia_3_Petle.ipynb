{
 "cells": [
  {
   "cell_type": "markdown",
   "id": "ba7f0cf7",
   "metadata": {},
   "source": [
    "# Pętle - wstęp"
   ]
  },
  {
   "cell_type": "markdown",
   "id": "6a198da8",
   "metadata": {},
   "source": [
    "<b>Przykład 1.</b> Poznajmy pętlę for, dzięki niej jesteśmy w stanie wykonać daną czynność określoną liczbę razy. W tym przykładzie wypiszemy zmienną i 10 razy"
   ]
  },
  {
   "cell_type": "code",
   "execution_count": 1,
   "id": "43bb6c3a",
   "metadata": {},
   "outputs": [
    {
     "name": "stdout",
     "output_type": "stream",
     "text": [
      "0\n",
      "1\n",
      "2\n",
      "3\n",
      "4\n",
      "5\n",
      "6\n",
      "7\n",
      "8\n",
      "9\n"
     ]
    }
   ],
   "source": [
    "for i in range(10):\n",
    "    print(i)"
   ]
  },
  {
   "cell_type": "markdown",
   "id": "5a172372",
   "metadata": {},
   "source": [
    "<b>Zadanie 1.</b> Korzystając z pętli for wypisz liczby z zakresu od 1 do 5."
   ]
  },
  {
   "cell_type": "code",
   "execution_count": null,
   "id": "b11732d5",
   "metadata": {},
   "outputs": [],
   "source": []
  },
  {
   "cell_type": "markdown",
   "id": "f7e825d3",
   "metadata": {},
   "source": [
    "<b>Zadanie 2.</b> Korzystając z pętli for wypisz liczby z zakresu od 1 do 20."
   ]
  },
  {
   "cell_type": "code",
   "execution_count": null,
   "id": "2f48a565",
   "metadata": {},
   "outputs": [],
   "source": []
  },
  {
   "cell_type": "markdown",
   "id": "e1a15447",
   "metadata": {},
   "source": [
    "<b>Zadanie 3.</b> Wypisz daną ilość razy napis Robotica. Liczba wypisań wyrazu ma być podana przez użytkownika."
   ]
  },
  {
   "cell_type": "code",
   "execution_count": null,
   "id": "2ca49027",
   "metadata": {},
   "outputs": [],
   "source": []
  },
  {
   "cell_type": "markdown",
   "id": "69a9f068",
   "metadata": {},
   "source": [
    "<b>Zadanie 4.</b> Wypisz daną ilość razy napis podany przez użytkownika. Liczba wypisań wyrazu ma być podana także przez użytkownika."
   ]
  },
  {
   "cell_type": "code",
   "execution_count": null,
   "id": "a7dce09f",
   "metadata": {},
   "outputs": [],
   "source": []
  },
  {
   "cell_type": "markdown",
   "id": "c38b2aef",
   "metadata": {},
   "source": [
    "<b>Zadanie 5.</b> Wypisz słowa Hello oraz World oddzielone tabulatorem podaną ilość razy."
   ]
  },
  {
   "cell_type": "code",
   "execution_count": null,
   "id": "a05f565c",
   "metadata": {},
   "outputs": [],
   "source": []
  },
  {
   "cell_type": "markdown",
   "id": "41855a14",
   "metadata": {},
   "source": [
    "<b>Przykład 2.</b> Dzięki pętli for możemy wypisać kolejne potęgi dwójki. Operacja na zmiennej result wykona się tyle razy co zakres podany w w pętli for."
   ]
  },
  {
   "cell_type": "code",
   "execution_count": 29,
   "id": "9a7d1480",
   "metadata": {},
   "outputs": [
    {
     "name": "stdout",
     "output_type": "stream",
     "text": [
      "2\n",
      "4\n",
      "8\n",
      "16\n",
      "32\n",
      "64\n",
      "128\n",
      "256\n",
      "512\n",
      "1024\n"
     ]
    }
   ],
   "source": [
    "result = 1\n",
    "for i in range(10):\n",
    "    result *=2\n",
    "    print(result)"
   ]
  },
  {
   "cell_type": "markdown",
   "id": "d8ecfbf6",
   "metadata": {},
   "source": [
    "<b>Zadanie 6.</b> Oblicz kolejne potęgi trójki. Stopień potęgi jest podany na wejściu."
   ]
  },
  {
   "cell_type": "code",
   "execution_count": null,
   "id": "679a175a",
   "metadata": {},
   "outputs": [],
   "source": []
  },
  {
   "cell_type": "markdown",
   "id": "1b9adabd",
   "metadata": {},
   "source": [
    "<b>Zadanie 7.</b> Wypisz potęgi liczby 2, o wykładnikach podanych w pliku \"zad_7.txt\"."
   ]
  },
  {
   "cell_type": "code",
   "execution_count": null,
   "id": "6c4d765a",
   "metadata": {},
   "outputs": [],
   "source": []
  },
  {
   "cell_type": "markdown",
   "id": "0fcf2f6f",
   "metadata": {},
   "source": [
    "<b>Zadanie 8.</b> Napisz program, który obliczy sumę wszytkich liczb zapisanych w pliku \"zad_8.txt\"."
   ]
  },
  {
   "cell_type": "code",
   "execution_count": null,
   "id": "4e75cc9f",
   "metadata": {},
   "outputs": [],
   "source": []
  },
  {
   "cell_type": "markdown",
   "id": "c4e6fd0d",
   "metadata": {},
   "source": [
    "<b>Zadanie 9.</b> Napisz program, który obliczy iloczyn wszytkich liczb zapisanych w pliku \"zad_9.txt\"."
   ]
  },
  {
   "cell_type": "code",
   "execution_count": null,
   "id": "98f74bbf",
   "metadata": {},
   "outputs": [],
   "source": []
  },
  {
   "cell_type": "markdown",
   "id": "b605174e",
   "metadata": {},
   "source": [
    "<b>Zadanie 10.</b> Napisz program, który obliczy iloczyn wszytkich liczb zapisanych w pliku \"zad_10.txt\"."
   ]
  },
  {
   "cell_type": "code",
   "execution_count": null,
   "id": "27421cd7",
   "metadata": {},
   "outputs": [],
   "source": []
  },
  {
   "cell_type": "markdown",
   "id": "ba204e6d",
   "metadata": {},
   "source": [
    "<b>Zadanie 11.</b> Napisz program, który pomnoży podane w pliku liczby przez 2 i wypisze je. Plik to \"zad_11.txt\"."
   ]
  },
  {
   "cell_type": "code",
   "execution_count": null,
   "id": "a52d9446",
   "metadata": {},
   "outputs": [],
   "source": []
  },
  {
   "cell_type": "markdown",
   "id": "07053961",
   "metadata": {},
   "source": [
    "<b>Zadanie 12.</b> Napisz program, który wypisze liczby przeciwne umieszczone w pliku \"zad_11.txt\""
   ]
  },
  {
   "cell_type": "code",
   "execution_count": null,
   "id": "32816470",
   "metadata": {},
   "outputs": [],
   "source": []
  },
  {
   "cell_type": "markdown",
   "id": "78004785",
   "metadata": {},
   "source": [
    "<b>Zadanie 13.</b> Napisz program, który zaokrągli liczby z pliku do tylu miejsc do przecinku, ile jest róna ich cyfra jedności. \"zad_13.txt\" (funkcja round(liczba, precyzja))"
   ]
  },
  {
   "cell_type": "code",
   "execution_count": null,
   "id": "53ba301c",
   "metadata": {},
   "outputs": [],
   "source": []
  },
  {
   "cell_type": "markdown",
   "id": "29e5a041",
   "metadata": {},
   "source": [
    "<b>Przykład 3.</b> Pętla for umożliwia nie tylko iterację po zakresie liczbowym, lecz także po strukturze danych, np. po liście. W takim przypadku nasza zmienna i będzie przyjmowała wartość każdego kolejnego elementu listy."
   ]
  },
  {
   "cell_type": "code",
   "execution_count": 55,
   "id": "fd06f4fc",
   "metadata": {},
   "outputs": [
    {
     "name": "stdout",
     "output_type": "stream",
     "text": [
      "1\n",
      "2\n",
      "3\n",
      "4\n",
      "5\n"
     ]
    }
   ],
   "source": [
    "list = [1,2,3,4,5]\n",
    "\n",
    "for i in list:\n",
    "    print(i)"
   ]
  },
  {
   "cell_type": "markdown",
   "id": "571ef910",
   "metadata": {},
   "source": [
    "<b>Zadanie 14.</b> Wypisz słowa zapisane w pliku \"zad_14.txt\". Niech pierwsze litery podanych wyrazów będą napisane wielką literą."
   ]
  },
  {
   "cell_type": "code",
   "execution_count": null,
   "id": "01d4ce8a",
   "metadata": {},
   "outputs": [],
   "source": []
  },
  {
   "cell_type": "markdown",
   "id": "55d523a6",
   "metadata": {},
   "source": [
    "<b>Zadanie 15.</b> W pliku zostały umieszczone średnice okręgów. Oblicz ich pola (π uzyskasz przez math.pi). Wynik zaokrąglij do dwóch miejsc po przecinku funkcją round i wypisz. Plik \"zad_15.txt\""
   ]
  },
  {
   "cell_type": "code",
   "execution_count": null,
   "id": "4e2f61df",
   "metadata": {},
   "outputs": [],
   "source": []
  },
  {
   "cell_type": "markdown",
   "id": "cbacbc91",
   "metadata": {},
   "source": [
    "<b>Przykład 4.</b> Poznajmy metodę split i splitlines, która umożliwia nam podział danej linijki wejściowej na listę zmiennych."
   ]
  },
  {
   "cell_type": "code",
   "execution_count": 74,
   "id": "94df887f",
   "metadata": {},
   "outputs": [
    {
     "name": "stdout",
     "output_type": "stream",
     "text": [
      "['13', '16', '12', '10', '10', '15', '14', '14', '20', '11', '18', '19', '12', '19']\n"
     ]
    }
   ],
   "source": [
    "file = open('przyklad_4.txt', 'r')\n",
    "dane = file.read()\n",
    "lista = dane.splitlines()\n",
    "print(lista)\n",
    "    \n",
    "file.close()"
   ]
  },
  {
   "cell_type": "code",
   "execution_count": 76,
   "id": "0dfd0854",
   "metadata": {},
   "outputs": [
    {
     "name": "stdout",
     "output_type": "stream",
     "text": [
      "['24', '38', '48', '15', '23']\n"
     ]
    }
   ],
   "source": [
    "file = open('przyklad_4_1.txt', 'r')\n",
    "dane = file.read()\n",
    "lista = dane.split()\n",
    "print(lista)\n",
    "    \n",
    "file.close()"
   ]
  },
  {
   "cell_type": "markdown",
   "id": "29d433aa",
   "metadata": {},
   "source": [
    "<b>Zadanie 16.</b> Oblicz pierwiastki z liczb i stopni podanych w pliku \"zad_16.txt\"."
   ]
  },
  {
   "cell_type": "code",
   "execution_count": null,
   "id": "a0bf22ca",
   "metadata": {},
   "outputs": [],
   "source": []
  },
  {
   "cell_type": "markdown",
   "id": "a9d0612b",
   "metadata": {},
   "source": [
    "<b>Zadanie 17.</b> Napisz program, który obliczy ilość wolnych miejsc w samolocie. Na wejściu, w każdym wierszu znajdują się trzy liczby: ilość miejsc w rzędzie, ilość rzędów oraz ilość miejsc zajętych. Wypisz dla kazdego zestawu danych ilość wolnych miejsc w danym samolocie. Plik \"zad_17.txt\"."
   ]
  },
  {
   "cell_type": "code",
   "execution_count": null,
   "id": "9cb88b14",
   "metadata": {},
   "outputs": [],
   "source": []
  },
  {
   "cell_type": "markdown",
   "id": "a5d63fdb",
   "metadata": {},
   "source": [
    "<b>Zadanie 18.</b> Napisz program, który średnią geometryczną podanych ciągów z pliku \"zad_18.txt\"."
   ]
  },
  {
   "cell_type": "code",
   "execution_count": null,
   "id": "5cd5d15c",
   "metadata": {},
   "outputs": [],
   "source": []
  },
  {
   "cell_type": "markdown",
   "id": "f2a90b15",
   "metadata": {},
   "source": [
    "<b>Zadanie 19.</b> Oblicz ile procent zdobyli uczniowie na sprawdzianie. W pliku \"zad_19.txt\" zamieszczone są dane o liczbie zdobytych punktów przez ucznia i oraz ilość punktów do zdobycia. Wynik procentowy wypisz z zaokrągleniem do dwóch miejsc po przecinku."
   ]
  },
  {
   "cell_type": "code",
   "execution_count": null,
   "id": "aab20173",
   "metadata": {},
   "outputs": [],
   "source": []
  },
  {
   "cell_type": "markdown",
   "id": "b5401695",
   "metadata": {},
   "source": [
    "<b>Przykład 5.</b> Gdy dane w pliku rozdzielone za pomocą innych znaków niż spacja czy nak tabulacji możemy w metodzie split umieścić jakim znakem dane są rodzielone."
   ]
  },
  {
   "cell_type": "code",
   "execution_count": 108,
   "id": "3a5a1292",
   "metadata": {},
   "outputs": [
    {
     "name": "stdout",
     "output_type": "stream",
     "text": [
      "['a', 'b', 'c', 'd']\n"
     ]
    }
   ],
   "source": [
    "text = \"a; b; c; d\"\n",
    "\n",
    "lista = text.split(\". \")\n",
    "print(lista)"
   ]
  },
  {
   "cell_type": "markdown",
   "id": "96ee73e1",
   "metadata": {},
   "source": [
    "<b>Zadanie 20.</b> Na wejściu zostały podane liczby oddzielone średnikami i spacją. Za pomocą funkcji split, podziel elementy i zapisz w liście oraz przekonwertuj na typ int. Wypisz finalną listę dla każdego ciągu liczbowego. Plik \"zad_20.txt\""
   ]
  },
  {
   "cell_type": "code",
   "execution_count": null,
   "id": "a7b4bdc4",
   "metadata": {},
   "outputs": [],
   "source": []
  },
  {
   "cell_type": "markdown",
   "id": "f2da3bec",
   "metadata": {},
   "source": [
    "<b>Zadanie 21.</b> Rozdziel podany tekst na elementy oraz je wypisz w postaci listy, wiedząc, że są oddzielone znakiem, który jest podany przed łańcuchem znaków i oddzielony tabulatorem."
   ]
  },
  {
   "cell_type": "code",
   "execution_count": null,
   "id": "c9457cb5",
   "metadata": {},
   "outputs": [],
   "source": []
  },
  {
   "cell_type": "code",
   "execution_count": null,
   "id": "ea1ca53f",
   "metadata": {},
   "outputs": [],
   "source": []
  }
 ],
 "metadata": {
  "kernelspec": {
   "display_name": "Python 3 (ipykernel)",
   "language": "python",
   "name": "python3"
  },
  "language_info": {
   "codemirror_mode": {
    "name": "ipython",
    "version": 3
   },
   "file_extension": ".py",
   "mimetype": "text/x-python",
   "name": "python",
   "nbconvert_exporter": "python",
   "pygments_lexer": "ipython3",
   "version": "3.9.13"
  }
 },
 "nbformat": 4,
 "nbformat_minor": 5
}
