{
 "cells": [
  {
   "cell_type": "markdown",
   "id": "fdce8634",
   "metadata": {},
   "source": [
    "# Obiektowość"
   ]
  },
  {
   "cell_type": "markdown",
   "id": "6a198da8",
   "metadata": {},
   "source": [
    "<b>Przykład 1.</b> Dziedziczenie klas umożliwia dziedziczenie metod i zmiennych klas, które podamy jako argument podczas deklaracji nowej klasy. Przykładowo stwórzmy klasę Zwierze, która jest dziedziczona przez klasy Lew i Kot. Zauważ, że tworząc obiekt na podstawie klasy Lew bądź Kot możemy wykorzystać metodę klasy Zwierze."
   ]
  },
  {
   "cell_type": "code",
   "execution_count": 3,
   "id": "43bb6c3a",
   "metadata": {},
   "outputs": [
    {
     "name": "stdout",
     "output_type": "stream",
     "text": [
      "Jestem lwem i mam na imie Stefan.\n",
      "Jestem kotem i mam na imie Józef.\n"
     ]
    }
   ],
   "source": [
    "class Zwierze:\n",
    "    def __init__(self, imie):\n",
    "        self.imie = imie\n",
    "        \n",
    "class Lew(Zwierze):\n",
    "    def przedstawSie(self):\n",
    "        print(\"Jestem lwem i mam na imie \" + str(self.imie) + \".\")\n",
    "    \n",
    "class Kot(Zwierze):\n",
    "    def przedstawSie(self):\n",
    "        print(\"Jestem kotem i mam na imie \" + str(self.imie) + \".\")\n",
    "        \n",
    "lew = Lew(\"Stefan\")\n",
    "kot = Kot(\"Józef\")\n",
    "\n",
    "lew.przedstawSie()\n",
    "kot.przedstawSie()"
   ]
  },
  {
   "cell_type": "markdown",
   "id": "5a172372",
   "metadata": {},
   "source": [
    "<b>Przykład 2.</b> Dodanie do nazwy zmiennej bądź pola z prefiksem _ zmieni ich modyfikator dostępu na protected. Oznacza to, że dostęp do danej metody/pola jest możliwy tylko wewnątrz klasy bądź klasy dziedziczącej."
   ]
  },
  {
   "cell_type": "code",
   "execution_count": 13,
   "id": "b11732d5",
   "metadata": {
    "scrolled": true
   },
   "outputs": [
    {
     "name": "stdout",
     "output_type": "stream",
     "text": [
      "Mam na imie John i mam 23 lata.\n"
     ]
    }
   ],
   "source": [
    "class Osoba:\n",
    "    def __init__(self, imie, wiek):\n",
    "        self._imie = imie\n",
    "        self._wiek= wiek\n",
    "        \n",
    "    def przedstawSie(self):\n",
    "        print(\"Mam na imie \" + self._imie + \" i mam \" + str(self._wiek) + \" lata.\")\n",
    "        \n",
    "john = Osoba(\"John\", 23)\n",
    "john.przedstawSie()"
   ]
  },
  {
   "cell_type": "markdown",
   "id": "58639a29",
   "metadata": {},
   "source": [
    "<b>Przykład 3.</b> Prefiks __ oznacza, że modyfikator danego pola bądź metody to private. Dostęp do tych metod i pól jest dostępny tylko wewnątrz tej klasy."
   ]
  },
  {
   "cell_type": "code",
   "execution_count": 17,
   "id": "464f70c6",
   "metadata": {},
   "outputs": [
    {
     "name": "stdout",
     "output_type": "stream",
     "text": [
      "Mam na imie John i mam 23 lata.\n"
     ]
    }
   ],
   "source": [
    "class Osoba:\n",
    "    def __init__(self, imie, wiek):\n",
    "        self.__imie = imie\n",
    "        self.__wiek= wiek\n",
    "        \n",
    "    def przedstawSie(self):\n",
    "        print(\"Mam na imie \" + self.__imie + \" i mam \" + str(self.__wiek) + \" lata.\")\n",
    "        \n",
    "john = Osoba(\"John\", 23)\n",
    "john.przedstawSie()\n",
    "\n",
    "#print(john.__imie) błąd"
   ]
  },
  {
   "cell_type": "markdown",
   "id": "f7e825d3",
   "metadata": {},
   "source": [
    "<b>Przykład 4.</b> W celu zmiany bądź uzyskania wartości o modyfikatorze private lub protected, wykorzystujemy metody służące do otrzymywania oraz zmiany wartości - np. getWiek, setWiek."
   ]
  },
  {
   "cell_type": "code",
   "execution_count": 21,
   "id": "2f48a565",
   "metadata": {
    "scrolled": true
   },
   "outputs": [
    {
     "name": "stdout",
     "output_type": "stream",
     "text": [
      "23\n",
      "30\n"
     ]
    }
   ],
   "source": [
    "class Osoba:\n",
    "    def __init__(self, imie, wiek):\n",
    "        self.__imie = imie\n",
    "        self.__wiek= wiek\n",
    "        \n",
    "    def setWiek(self, wiek):\n",
    "        self.__wiek = wiek\n",
    "        \n",
    "    def getWiek(self):\n",
    "        return self.__wiek\n",
    "        \n",
    "john = Osoba(\"John\", 23)\n",
    "print(john.getWiek())\n",
    "\n",
    "john.setWiek(30)\n",
    "print(john.getWiek())"
   ]
  },
  {
   "cell_type": "markdown",
   "id": "f9c1aedd",
   "metadata": {},
   "source": [
    "<b>Zadanie 1</b> Stwórz klasę Osoba, która będzie miała atrybuty imie, nazwisko i wiek. Następnie stwórz klasę Uczen, która będzie dziedziczyć po klasie Osoba i będzie miała dodatkowy atrybut klasa oraz metodę pokaz_dane, która wyświetli wszystkie dane ucznia (włączając w to jego klasę)."
   ]
  },
  {
   "cell_type": "code",
   "execution_count": null,
   "id": "903b2078",
   "metadata": {},
   "outputs": [],
   "source": []
  },
  {
   "cell_type": "markdown",
   "id": "0440e2ff",
   "metadata": {},
   "source": [
    "<b>Zadanie 2.</b> Stwórz klasę Samochod, która będzie miała chroniony atrybut predkosc oraz metodę przyspiesz, która będzie zwiększała prędkość samochodu. Następnie stwórz klasę SamochodElektryczny, dziedziczącą po Samochod, która będzie miała dodatkowy atrybut poziom_baterii oraz metodę laduj_baterie, która będzie zwiększała poziom baterii."
   ]
  },
  {
   "cell_type": "code",
   "execution_count": null,
   "id": "e5494d7a",
   "metadata": {},
   "outputs": [],
   "source": []
  },
  {
   "cell_type": "markdown",
   "id": "f5f67b08",
   "metadata": {},
   "source": [
    "<b>Zadanie 3.</b> Stwórz klasę Pracownik z atrybutami imie, nazwisko i pensja (pensja ma być zmienną chronioną). Następnie stwórz klasę Kierownik, która dziedziczy po Pracownik i ma dodatkowy atrybut bonus (również zmienną chronioną). Dodaj metodę oblicz_wynagrodzenie, która zwróci wynagrodzenie pracownika z uwzględnieniem bonusu."
   ]
  },
  {
   "cell_type": "code",
   "execution_count": null,
   "id": "4cc88586",
   "metadata": {},
   "outputs": [],
   "source": []
  },
  {
   "cell_type": "markdown",
   "id": "e1a15447",
   "metadata": {},
   "source": [
    "<b>Zadanie 4.</b> Stwórz klasę KontoBankowe, która będzie miała chroniony atrybut saldo. Dodaj geter i seter dla salda, ale ustaw ograniczenie, aby saldo nie mogło być ujemne."
   ]
  },
  {
   "cell_type": "code",
   "execution_count": null,
   "id": "2ca49027",
   "metadata": {},
   "outputs": [],
   "source": []
  },
  {
   "cell_type": "markdown",
   "id": "4d326dc2",
   "metadata": {},
   "source": [
    "<b>Zadanie 5.</b> Stwórz klasę Termometr, która będzie miała prywatny atrybut temperatura. Dodaj geter i seter dla temperatury, ale ustaw ograniczenie, aby temperatura nie mogła być niższa niż -273 stopnie Celsjusza."
   ]
  },
  {
   "cell_type": "code",
   "execution_count": null,
   "id": "65bcaaae",
   "metadata": {},
   "outputs": [],
   "source": []
  },
  {
   "cell_type": "markdown",
   "id": "72e3071b",
   "metadata": {},
   "source": [
    "<b>Zadanie 6.</b> Stwórz klasę KsiazkaAdresowa, która będzie miała listę kontaktów (_kontakty). Dodaj geter i seter dla kontaktów, ale ustaw ograniczenie, aby liczba kontaktów nie przekraczała 100."
   ]
  },
  {
   "cell_type": "code",
   "execution_count": null,
   "id": "c0ae1b71",
   "metadata": {},
   "outputs": [],
   "source": []
  },
  {
   "cell_type": "markdown",
   "id": "1e973235",
   "metadata": {},
   "source": [
    "<b>Zadanie 7.</b> Stwórz klasę Zawodnik, która będzie reprezentować zawodnika piłkarskiego. Zawodnik będzie miał atrybuty: imie, nazwisko, pozycja oraz wartosc. Wartość zawodnika powinna być zmienną prywatną.\n",
    "\n",
    "Następnie stwórz klasę Zespol, która będzie miała listę zawodników (_zawodnicy). Dodaj metodę dodaj_zawodnika, która będzie dodawać zawodnika do zespołu. Dodaj także metodę wartosc_zespolu, która będzie zwracała wartość całego zespołu (sumę wartości wszystkich zawodników w zespole).\n",
    "\n",
    "Ustaw ograniczenie, aby wartość zawodnika nie mogła być ujemna, a przy dodawaniu zawodnika do zespołu sprawdź, czy nie zostanie przekroczony limit zawodników (np. maksymalnie 11)."
   ]
  },
  {
   "cell_type": "code",
   "execution_count": null,
   "id": "bd7efb58",
   "metadata": {},
   "outputs": [],
   "source": []
  }
 ],
 "metadata": {
  "kernelspec": {
   "display_name": "Python 3 (ipykernel)",
   "language": "python",
   "name": "python3"
  },
  "language_info": {
   "codemirror_mode": {
    "name": "ipython",
    "version": 3
   },
   "file_extension": ".py",
   "mimetype": "text/x-python",
   "name": "python",
   "nbconvert_exporter": "python",
   "pygments_lexer": "ipython3",
   "version": "3.10.9"
  }
 },
 "nbformat": 4,
 "nbformat_minor": 5
}
