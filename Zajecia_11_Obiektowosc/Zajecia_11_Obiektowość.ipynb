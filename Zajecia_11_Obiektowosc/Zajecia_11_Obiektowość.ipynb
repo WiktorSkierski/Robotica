{
 "cells": [
  {
   "cell_type": "markdown",
   "id": "fdce8634",
   "metadata": {},
   "source": [
    "# Obiektowość"
   ]
  },
  {
   "cell_type": "markdown",
   "id": "6a198da8",
   "metadata": {},
   "source": [
    "<b>Przykład 1.</b> Dziedziczenie klas umożliwia dziedziczenie metod i zmiennych klas, które podamy jako argument podczas deklaracji nowej klasy. Przykładowo stwórzmy klasę Zwierze, która jest dziedziczona przez klasy Lew i Kot. Zauważ, że tworząc obiekt na podstawie klasy Lew bądź Kot możemy wykorzystać metodę klasy Zwierze."
   ]
  },
  {
   "cell_type": "code",
   "execution_count": 3,
   "id": "43bb6c3a",
   "metadata": {},
   "outputs": [
    {
     "name": "stdout",
     "output_type": "stream",
     "text": [
      "Jestem lwem i mam na imie Stefan.\n",
      "Jestem kotem i mam na imie Józef.\n"
     ]
    }
   ],
   "source": [
    "class Zwierze:\n",
    "    def __init__(self, imie):\n",
    "        self.imie = imie\n",
    "        \n",
    "class Lew(Zwierze):\n",
    "    def przedstawSie(self):\n",
    "        print(\"Jestem lwem i mam na imie \" + str(self.imie) + \".\")\n",
    "    \n",
    "class Kot(Zwierze):\n",
    "    def przedstawSie(self):\n",
    "        print(\"Jestem kotem i mam na imie \" + str(self.imie) + \".\")\n",
    "        \n",
    "lew = Lew(\"Stefan\")\n",
    "kot = Kot(\"Józef\")\n",
    "\n",
    "lew.przedstawSie()\n",
    "kot.przedstawSie()"
   ]
  },
  {
   "cell_type": "markdown",
   "id": "5a172372",
   "metadata": {},
   "source": [
    "<b>Przykład 2.</b> Dodanie do nazwy zmiennej bądź pola z prefiksem _ zmieni ich modyfikator dostępu na protected. Oznacza to, że dostęp do danej metody/pola jest możliwy tylko wewnątrz klasy bądź klasy dziedziczącej."
   ]
  },
  {
   "cell_type": "code",
   "execution_count": 13,
   "id": "b11732d5",
   "metadata": {
    "scrolled": true
   },
   "outputs": [
    {
     "name": "stdout",
     "output_type": "stream",
     "text": [
      "Mam na imie John i mam 23 lata.\n"
     ]
    }
   ],
   "source": [
    "class Osoba:\n",
    "    def __init__(self, imie, wiek):\n",
    "        self._imie = imie\n",
    "        self._wiek= wiek\n",
    "        \n",
    "    def przedstawSie(self):\n",
    "        print(\"Mam na imie \" + self._imie + \" i mam \" + str(self._wiek) + \" lata.\")\n",
    "        \n",
    "john = Osoba(\"John\", 23)\n",
    "john.przedstawSie()"
   ]
  },
  {
   "cell_type": "markdown",
   "id": "58639a29",
   "metadata": {},
   "source": [
    "<b>Przykład 3.</b> Prefiks __ oznacza, że modyfikator danego pola bądź metody to private. Dostęp do tych metod i pól jest dostępny tylko wewnątrz tej klasy."
   ]
  },
  {
   "cell_type": "code",
   "execution_count": 17,
   "id": "464f70c6",
   "metadata": {},
   "outputs": [
    {
     "name": "stdout",
     "output_type": "stream",
     "text": [
      "Mam na imie John i mam 23 lata.\n"
     ]
    }
   ],
   "source": [
    "class Osoba:\n",
    "    def __init__(self, imie, wiek):\n",
    "        self.__imie = imie\n",
    "        self.__wiek= wiek\n",
    "        \n",
    "    def przedstawSie(self):\n",
    "        print(\"Mam na imie \" + self.__imie + \" i mam \" + str(self.__wiek) + \" lata.\")\n",
    "        \n",
    "john = Osoba(\"John\", 23)\n",
    "john.przedstawSie()\n",
    "\n",
    "#print(john.__imie) błąd"
   ]
  },
  {
   "cell_type": "markdown",
   "id": "f7e825d3",
   "metadata": {},
   "source": [
    "<b>Przykład 4.</b> W celu zmiany bądź uzyskania wartości o modyfikatorze private lub protected, wykorzystujemy metody służące do otrzymywania oraz zmiany wartości - np. getWiek, setWiek."
   ]
  },
  {
   "cell_type": "code",
   "execution_count": 21,
   "id": "2f48a565",
   "metadata": {
    "scrolled": true
   },
   "outputs": [
    {
     "name": "stdout",
     "output_type": "stream",
     "text": [
      "23\n",
      "30\n"
     ]
    }
   ],
   "source": [
    "class Osoba:\n",
    "    def __init__(self, imie, wiek):\n",
    "        self.__imie = imie\n",
    "        self.__wiek= wiek\n",
    "        \n",
    "    def setWiek(self, wiek):\n",
    "        self.__wiek = wiek\n",
    "        \n",
    "    def getWiek(self):\n",
    "        return self.__wiek\n",
    "        \n",
    "john = Osoba(\"John\", 23)\n",
    "print(john.getWiek())\n",
    "\n",
    "john.setWiek(30)\n",
    "print(john.getWiek())"
   ]
  },
  {
   "cell_type": "markdown",
   "id": "f9c1aedd",
   "metadata": {},
   "source": [
    "<b>Przykład 4</b> Możemy dodawać nasze nowo powstałe obiekty do listy. Stwórzmy trzy obiekty i dodajmy je do listy"
   ]
  },
  {
   "cell_type": "code",
   "execution_count": 32,
   "id": "903b2078",
   "metadata": {},
   "outputs": [
    {
     "name": "stdout",
     "output_type": "stream",
     "text": [
      "Moje imie to Agata i mam 23 lat.\n",
      "Moje imie to Sebastian i mam 16 lat.\n",
      "Moje imie to Kornelia i mam 25 lat.\n"
     ]
    }
   ],
   "source": [
    "class Osoba:\n",
    "    def __init__(self, imie, wiek):\n",
    "        self.imie = imie\n",
    "        self.wiek = wiek\n",
    "        \n",
    "    def przedstawSie(self):\n",
    "        print(\"Moje imie to \" + self.imie + \" i mam \" + str(self.wiek) + \" lat.\")\n",
    "        \n",
    "listaOsob = []\n",
    "\n",
    "o1 = Osoba(\"Agata\", 23)\n",
    "o2 = Osoba(\"Sebastian\", 16)\n",
    "o3 = Osoba(\"Kornelia\", 25)\n",
    "\n",
    "\n",
    "listaOsob.append(o1)\n",
    "listaOsob.append(o2)\n",
    "listaOsob.append(o3)\n",
    "\n",
    "for osoba in listaOsob:\n",
    "    osoba.przedstawSie()"
   ]
  },
  {
   "cell_type": "markdown",
   "id": "0440e2ff",
   "metadata": {},
   "source": [
    "<b>Zadanie 2.</b> W pliku zad_2.txt znajdują się kolejne informacje o produktach (nazwa produktu, ilość i cena). Stwórz listę wszystkich produktów oraz wypisz informację o każdym produkcie. Aby wziąć kolejny element z listy z pliku wykonujemy metodę split i numer elementu w linii przykład: linia.split()[0]"
   ]
  },
  {
   "cell_type": "code",
   "execution_count": null,
   "id": "e5494d7a",
   "metadata": {},
   "outputs": [],
   "source": []
  },
  {
   "cell_type": "markdown",
   "id": "f5f67b08",
   "metadata": {},
   "source": [
    "<b>Zadanie 3.</b> Przekopiuj powyższy program. Dopisz do klasy metodę obliczającą całkowity koszt każdego produktu. Wypisz w podanej formie (Apple 2584zł). Pamiętaj o funkcji int przed dodaniem wiersza do konstruktora."
   ]
  },
  {
   "cell_type": "code",
   "execution_count": null,
   "id": "4cc88586",
   "metadata": {},
   "outputs": [],
   "source": []
  },
  {
   "cell_type": "markdown",
   "id": "e1a15447",
   "metadata": {},
   "source": [
    "<b>Zadanie 4.</b> Stwórz klasę Osoba, która będzie zawierać pola imię i miasto. Stwórz obiekty tej klasy o podanych imionahc i nazwiskach i dodaj do listy. Wypisz imiona osób, które mieszkają w Chicago. Plik: zad_4.txt"
   ]
  },
  {
   "cell_type": "code",
   "execution_count": null,
   "id": "2ca49027",
   "metadata": {},
   "outputs": [],
   "source": []
  },
  {
   "cell_type": "code",
   "execution_count": null,
   "id": "a52d9446",
   "metadata": {},
   "outputs": [],
   "source": []
  }
 ],
 "metadata": {
  "kernelspec": {
   "display_name": "Python 3 (ipykernel)",
   "language": "python",
   "name": "python3"
  },
  "language_info": {
   "codemirror_mode": {
    "name": "ipython",
    "version": 3
   },
   "file_extension": ".py",
   "mimetype": "text/x-python",
   "name": "python",
   "nbconvert_exporter": "python",
   "pygments_lexer": "ipython3",
   "version": "3.9.13"
  }
 },
 "nbformat": 4,
 "nbformat_minor": 5
}
